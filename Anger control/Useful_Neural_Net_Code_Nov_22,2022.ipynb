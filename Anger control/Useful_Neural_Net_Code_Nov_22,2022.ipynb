{
  "nbformat": 4,
  "nbformat_minor": 0,
  "metadata": {
    "colab": {
      "provenance": []
    },
    "kernelspec": {
      "name": "python3",
      "display_name": "Python 3"
    },
    "language_info": {
      "name": "python"
    }
  },
  "cells": [
    {
      "cell_type": "markdown",
      "source": [
        "#I want this to be a place where I can deposit some of the useful pieces of code that will accompany every workbook... \n",
        "\n",
        "To do: \n",
        "1) This space will require a fair bit of organizing...\n"
      ],
      "metadata": {
        "id": "h8trlQhOYfdi"
      }
    },
    {
      "cell_type": "markdown",
      "source": [
        "#Code for converting hugging face into neural nets... "
      ],
      "metadata": {
        "id": "tbvr5tI4bos0"
      }
    },
    {
      "cell_type": "code",
      "source": [
        "#This is Huggingface's install... \n",
        "\n",
        "#! pip install datasets"
      ],
      "metadata": {
        "id": "0_wX1WWlboE2"
      },
      "execution_count": null,
      "outputs": []
    },
    {
      "cell_type": "code",
      "execution_count": null,
      "metadata": {
        "id": "MVg3vZM3Ya6N"
      },
      "outputs": [],
      "source": [
        "#How to convert a pandas data frame into a Hugging Face dataset... \n",
        "\n",
        "import pyarrow as pa\n",
        "import pyarrow.dataset as ds\n",
        "import pandas as pd\n",
        "from datasets import Dataset\n",
        "\n",
        "df = pd.DataFrame({'a': [0,1,2], 'b': [3,4,5]})\n",
        "dataset = ds.dataset(pa.Table.from_pandas(df).to_batches())\n",
        "\n",
        "### convert to Huggingface dataset\n",
        "hg_dataset = Dataset(pa.Table.from_pandas(df))\n"
      ]
    },
    {
      "cell_type": "code",
      "source": [
        "#Checking what this dataset is... \n",
        "\n",
        "#type(hg_dataset)\n",
        "\n",
        "hg_dataset?"
      ],
      "metadata": {
        "id": "bmcuicELb3-k"
      },
      "execution_count": null,
      "outputs": []
    },
    {
      "cell_type": "markdown",
      "source": [
        "#Saving and loading models... \n",
        "\n",
        "This is not too complex a piece of code...but there are some nuances to it...\n",
        "\n",
        "For consideration: \n",
        "1) Do we want to run the inference model here? \n",
        "\n",
        "Linked pages: \n",
        "https://colab.research.google.com/github/tensorflow/docs/blob/master/site/en/tutorials/keras/save_and_load.ipynb\n",
        "\n"
      ],
      "metadata": {
        "id": "tHEMJMQLcxS4"
      }
    },
    {
      "cell_type": "code",
      "source": [],
      "metadata": {
        "id": "L_IH9p3Qn3bg"
      },
      "execution_count": null,
      "outputs": []
    }
  ]
}