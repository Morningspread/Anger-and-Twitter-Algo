{
  "nbformat": 4,
  "nbformat_minor": 0,
  "metadata": {
    "colab": {
      "provenance": [],
      "toc_visible": true,
      "authorship_tag": "ABX9TyMcegjyUkC2OnudkT5cmDGV",
      "include_colab_link": true
    },
    "kernelspec": {
      "name": "python3",
      "display_name": "Python 3"
    },
    "language_info": {
      "name": "python"
    },
    "gpuClass": "standard",
    "accelerator": "GPU"
  },
  "cells": [
    {
      "cell_type": "markdown",
      "metadata": {
        "id": "view-in-github",
        "colab_type": "text"
      },
      "source": [
        "<a href=\"https://colab.research.google.com/github/Morningspread/Angry-Tweeter/blob/main/Inference_Fear_Anger_Twit_COVID19_223K_March9%2C2023.ipynb\" target=\"_parent\"><img src=\"https://colab.research.google.com/assets/colab-badge.svg\" alt=\"Open In Colab\"/></a>"
      ]
    },
    {
      "cell_type": "markdown",
      "source": [
        "#I want to work on creating a way to better understanding with our inference \n",
        "\n",
        "Path to models...\n",
        "\n",
        "\n",
        "1.   /content/drive/MyDrive/Sean/Emoclass/Model_Anger_10words_70acc_Feb25,2023\n",
        "2.   /content/drive/MyDrive/Sean/Emoclass/Model_Anger_75words_71acc_Feb28,2023\n",
        "3. /content/drive/MyDrive/Sean/Emoclass/Model_Fear_151K_11words_75acc_Feb24,2023\n",
        "4. /content/drive/MyDrive/Sean/Emoclass/Model_Fear_78acc_75words_Feb17b,2022\n",
        "\n",
        "Requirements\n",
        "All the models need to be trained on the same input length... \n",
        "\n",
        "\n",
        "\n",
        "\n"
      ],
      "metadata": {
        "id": "tvn3fpAdYsGx"
      }
    },
    {
      "cell_type": "code",
      "execution_count": null,
      "metadata": {
        "colab": {
          "base_uri": "https://localhost:8080/"
        },
        "id": "Y2cEKvHMYks7",
        "outputId": "3fee2fa8-190a-420e-bb21-150b58d64bbc"
      },
      "outputs": [
        {
          "output_type": "stream",
          "name": "stdout",
          "text": [
            "Drive already mounted at /content/drive; to attempt to forcibly remount, call drive.mount(\"/content/drive\", force_remount=True).\n"
          ]
        }
      ],
      "source": [
        "# Load the Drive helper and mount\n",
        "\n",
        "from google.colab import drive\n",
        "drive.mount('/content/drive')"
      ]
    },
    {
      "cell_type": "code",
      "source": [
        "#This is supposed to help us navigate to our folder... \n",
        "\n",
        "import os\n",
        "os.chdir('/content/drive/MyDrive/Sean/Emoclass')"
      ],
      "metadata": {
        "id": "pXAiv79lZJrF"
      },
      "execution_count": null,
      "outputs": []
    },
    {
      "cell_type": "code",
      "source": [
        "#Loading the dependencies.. \n",
        "\n",
        "%matplotlib inline\n",
        "\n",
        "import tensorflow as tf\n",
        "from tensorflow import keras\n",
        "import numpy as np\n",
        "import matplotlib.pyplot as plt\n",
        "import pandas as pd\n",
        "import re \n",
        "\n",
        "#Loading the tokenizers...\n",
        "\n",
        "from tensorflow.keras.preprocessing.text import Tokenizer\n",
        "\n",
        "#Importing the pad sequence... \n",
        "from tensorflow.keras.preprocessing.sequence import pad_sequences"
      ],
      "metadata": {
        "id": "qAmYYymWbaQV"
      },
      "execution_count": null,
      "outputs": []
    },
    {
      "cell_type": "code",
      "source": [
        "#Setting maximum column length to display\n",
        "pd.options.display.max_columns = None\n"
      ],
      "metadata": {
        "id": "5r_zUxFcn0jE"
      },
      "execution_count": null,
      "outputs": []
    },
    {
      "cell_type": "markdown",
      "source": [
        "#Load Training models "
      ],
      "metadata": {
        "id": "rNg29s5dbzXo"
      }
    },
    {
      "cell_type": "code",
      "source": [
        "# Load trained models - only need to do this once per run... \n",
        "\n",
        "anger_model_10 = tf.keras.models.load_model('/content/drive/MyDrive/Sean/Emoclass/Model_Anger_10words_70acc_Feb25,2023')\n",
        "anger_model_75 = tf.keras.models.load_model('/content/drive/MyDrive/Sean/Emoclass/Model_Anger_75words_71acc_Feb28,2023')\n",
        "fear_model_10 = tf.keras.models.load_model('/content/drive/MyDrive/Sean/Emoclass/Model_Fear_151K_11words_75acc_Feb24,2023')\n",
        "fear_model_75 = tf.keras.models.load_model('/content/drive/MyDrive/Sean/Emoclass/Model_Fear_78acc_75words_Feb17b,2022')\n"
      ],
      "metadata": {
        "id": "-RqNET8Mb042"
      },
      "execution_count": null,
      "outputs": []
    },
    {
      "cell_type": "code",
      "source": [
        "# Load inference dataset... \n",
        "\n",
        "df = pd.read_csv(\"/content/drive/MyDrive/Sean/Twitter/COVID_223KTweets.csv\")"
      ],
      "metadata": {
        "id": "YHb51XSGbdkG"
      },
      "execution_count": null,
      "outputs": []
    },
    {
      "cell_type": "code",
      "source": [
        "#Let's check the basic characteristics of this...\n",
        "\n",
        "df.shape"
      ],
      "metadata": {
        "colab": {
          "base_uri": "https://localhost:8080/"
        },
        "id": "yj-Iy2RDaEEy",
        "outputId": "00a43685-1b98-4e30-e87e-dc0aa33652d5"
      },
      "execution_count": null,
      "outputs": [
        {
          "output_type": "execute_result",
          "data": {
            "text/plain": [
              "(223955, 36)"
            ]
          },
          "metadata": {},
          "execution_count": 56
        }
      ]
    },
    {
      "cell_type": "code",
      "source": [
        "# rename the 'tweet' column to 'text'\n",
        "df = df.rename(columns={'tweet': 'text'})"
      ],
      "metadata": {
        "id": "qi0v4JKjnee3"
      },
      "execution_count": null,
      "outputs": []
    },
    {
      "cell_type": "code",
      "source": [
        "#Let's get the columns for this thing...\n",
        "\n",
        "df.columns"
      ],
      "metadata": {
        "colab": {
          "base_uri": "https://localhost:8080/"
        },
        "id": "taA19UENaEBd",
        "outputId": "5991e7d4-e396-459d-9c44-114e72ae0b3a"
      },
      "execution_count": null,
      "outputs": [
        {
          "output_type": "execute_result",
          "data": {
            "text/plain": [
              "Index(['id', 'conversation_id', 'created_at', 'date', 'time', 'timezone',\n",
              "       'user_id', 'username', 'name', 'place', 'text', 'language', 'mentions',\n",
              "       'urls', 'photos', 'replies_count', 'retweets_count', 'likes_count',\n",
              "       'hashtags', 'cashtags', 'link', 'retweet', 'quote_url', 'video',\n",
              "       'thumbnail', 'near', 'geo', 'source', 'user_rt_id', 'user_rt',\n",
              "       'retweet_id', 'reply_to', 'retweet_date', 'translate', 'trans_src',\n",
              "       'trans_dest'],\n",
              "      dtype='object')"
            ]
          },
          "metadata": {},
          "execution_count": 58
        }
      ]
    },
    {
      "cell_type": "markdown",
      "source": [
        "##Filtering the non-english tweets - 116K english \n"
      ],
      "metadata": {
        "id": "shT9ZyfXacS_"
      }
    },
    {
      "cell_type": "code",
      "source": [
        "df['language'].value_counts()"
      ],
      "metadata": {
        "colab": {
          "base_uri": "https://localhost:8080/"
        },
        "id": "_LeG3MG3aD-8",
        "outputId": "ff5ecfd8-ef93-4e56-c101-008899f17efb"
      },
      "execution_count": null,
      "outputs": [
        {
          "output_type": "execute_result",
          "data": {
            "text/plain": [
              "en    116687\n",
              "es     31788\n",
              "ja     13897\n",
              "pt     12093\n",
              "fr      9756\n",
              "       ...  \n",
              "hy         2\n",
              "sd         2\n",
              "ug         1\n",
              "am         1\n",
              "bo         1\n",
              "Name: language, Length: 67, dtype: int64"
            ]
          },
          "metadata": {},
          "execution_count": 59
        }
      ]
    },
    {
      "cell_type": "code",
      "source": [
        "#This filter works... \n",
        "\n",
        "df = df[df['language'] == 'en']"
      ],
      "metadata": {
        "id": "FWYR4mUnaD8c"
      },
      "execution_count": null,
      "outputs": []
    },
    {
      "cell_type": "markdown",
      "source": [
        "##Visual inspection of dataset to see if anything needs removal"
      ],
      "metadata": {
        "id": "p9gQTfoPbozI"
      }
    },
    {
      "cell_type": "code",
      "source": [
        "df['text'].head(25)"
      ],
      "metadata": {
        "colab": {
          "base_uri": "https://localhost:8080/"
        },
        "id": "eJ4WXzzVaD3y",
        "outputId": "22431236-c211-42ba-9206-5a4d44688ff4"
      },
      "execution_count": null,
      "outputs": [
        {
          "output_type": "execute_result",
          "data": {
            "text/plain": [
              "0     SAFE &amp; EFFECTIVE. Pfizer skipped major cat...\n",
              "1     @montanamike_tx @CastAwayOne1 Its a very small...\n",
              "3     Lisa Beardsley-Hardy, GC director of education...\n",
              "5     West Valley Junior High School will hold a com...\n",
              "7     Free Covid-19 vaccinations will be provided by...\n",
              "8     At PARC every Thursday and Sunday from 2 p.m. ...\n",
              "12    You can find #COVID19 weekly updates and vacci...\n",
              "13    COVID-19: 'Concerning' increases in hospitalis...\n",
              "14    The Flu disappeared for 2 whole years?  The wi...\n",
              "17    @amapresident Vaccine failed! Actuaries Digita...\n",
              "18    Greenview Ave closed from Carling Ave to Brita...\n",
              "19    The healthcare provider says they are allowing...\n",
              "22    @JamesSurowiecki Ivermectin CDC   https://t.co...\n",
              "25    @DHammy1971 Sad state of affairs. It’s BS. Loa...\n",
              "27    #Download My Kill #Coronavirus On Contact #Rec...\n",
              "28    @IslingtonBC Give us a venue to host. We reall...\n",
              "29    @essigna Time to heal from Covid19, more commu...\n",
              "31    @POTUS According to NEA records, a $150,000 AR...\n",
              "32     https://t.co/PLcvv0VmLd🧐-\" news flash 📸:( 5) ...\n",
              "34    @BsogX @ChomskySimpson @socialistboomer @brieb...\n",
              "36    @AngelaB34637779 @mjtimber2 @tywataaa @DrAseem...\n",
              "37    The number of Europeans reporting \"bad\" or \"ve...\n",
              "40    Brain cells exposed to blood taken from COVID-...\n",
              "42    @CryptoNewsUpd8s $BethFBrownell I just got dia...\n",
              "44    @JuliaDavisNews #PariahPutin must have #COVID1...\n",
              "Name: text, dtype: object"
            ]
          },
          "metadata": {},
          "execution_count": 63
        }
      ]
    },
    {
      "cell_type": "markdown",
      "source": [
        "##Data Cleaning Step "
      ],
      "metadata": {
        "id": "0kZ3vwrZcrOY"
      }
    },
    {
      "cell_type": "code",
      "source": [
        "# define a function to remove @handles, URLs, hashtags, and apostrophes from a string\n",
        "def preprocess_text(text):\n",
        "    text = re.sub(r'@\\w+\\s?', '', text) # remove @handles\n",
        "    text = re.sub(r'http\\S+', '', text) # remove URLs\n",
        "    text = re.sub(r'#\\w+\\s?', '', text) # remove hashtags\n",
        "    text = text.replace(\"'\", \"\") # remove apostrophes\n",
        "    text = text.replace(\"?\", \"\") # remove question marks\n",
        "    text = text.replace(\"!\", \"\") # remove exclamation marks\n",
        "    return text\n",
        "\n",
        "# apply the function to the 'text' column\n",
        "df['text'] = df['text'].apply(preprocess_text)\n"
      ],
      "metadata": {
        "id": "DVC6sRYGbWn7"
      },
      "execution_count": null,
      "outputs": []
    },
    {
      "cell_type": "code",
      "source": [
        "df['text'].head(15)"
      ],
      "metadata": {
        "colab": {
          "base_uri": "https://localhost:8080/"
        },
        "id": "J9fcm8e8af5u",
        "outputId": "f9a57e6e-9cd7-4e1e-ddbd-5cd0753353c3"
      },
      "execution_count": null,
      "outputs": [
        {
          "output_type": "execute_result",
          "data": {
            "text/plain": [
              "0     SAFE &amp; EFFECTIVE. Pfizer skipped major cat...\n",
              "1     Its a very small cohort but it represented unv...\n",
              "3     Lisa Beardsley-Hardy, GC director of education...\n",
              "5     West Valley Junior High School will hold a com...\n",
              "7     Free Covid-19 vaccinations will be provided by...\n",
              "8     At PARC every Thursday and Sunday from 2 p.m. ...\n",
              "12    You can find weekly updates and vaccine inform...\n",
              "13    COVID-19: Concerning increases in hospitalisat...\n",
              "14    The Flu disappeared for 2 whole years  The win...\n",
              "17    Vaccine failed Actuaries Digital Report states...\n",
              "18    Greenview Ave closed from Carling Ave to Brita...\n",
              "19    The healthcare provider says they are allowing...\n",
              "22    Ivermectin CDC     Regular Use of Ivermectin a...\n",
              "25    Sad state of affairs. It’s BS. Loads of compan...\n",
              "27                               My Kill On Contact    \n",
              "Name: text, dtype: object"
            ]
          },
          "metadata": {},
          "execution_count": 65
        }
      ]
    },
    {
      "cell_type": "code",
      "source": [
        "#Counting word frequency...\n",
        "\n",
        "# count the number of words in each tweet\n",
        "df['num_words'] = df['text'].apply(lambda x: len(str(x).split()))"
      ],
      "metadata": {
        "id": "4BTVCZjybhb4"
      },
      "execution_count": null,
      "outputs": []
    },
    {
      "cell_type": "code",
      "source": [
        "df['num_words'].describe()"
      ],
      "metadata": {
        "colab": {
          "base_uri": "https://localhost:8080/"
        },
        "id": "B4asksFOdPz3",
        "outputId": "9fd07b5b-2614-4dbe-c140-34607f025834"
      },
      "execution_count": null,
      "outputs": [
        {
          "output_type": "execute_result",
          "data": {
            "text/plain": [
              "count    116687.000000\n",
              "mean         24.432756\n",
              "std          12.893197\n",
              "min           0.000000\n",
              "25%          13.000000\n",
              "50%          23.000000\n",
              "75%          35.000000\n",
              "max          70.000000\n",
              "Name: num_words, dtype: float64"
            ]
          },
          "metadata": {},
          "execution_count": 67
        }
      ]
    },
    {
      "cell_type": "code",
      "source": [
        "#Count the frequency below a certain threshold - should we apply a cutoff? \n",
        "#Frequency is 5... \n",
        "\n",
        "freq = df['num_words'].value_counts()\n",
        "freq_below_5 = freq[freq < 5]\n",
        "\n",
        "# print the frequency counts\n",
        "print(freq_below_5)\n"
      ],
      "metadata": {
        "colab": {
          "base_uri": "https://localhost:8080/"
        },
        "id": "dh0TuaV9ddCP",
        "outputId": "b1643e64-0fda-4841-9b1f-e67015d7b778"
      },
      "execution_count": null,
      "outputs": [
        {
          "output_type": "stream",
          "name": "stdout",
          "text": [
            "61    4\n",
            "63    2\n",
            "62    2\n",
            "67    1\n",
            "70    1\n",
            "66    1\n",
            "Name: num_words, dtype: int64\n"
          ]
        }
      ]
    },
    {
      "cell_type": "code",
      "source": [
        "#Total number of words below or some other threshold... \n",
        "\n",
        "# count the number of tweets with less than 5 words\n",
        "freq = df['num_words'].value_counts()\n",
        "threshold = 5\n",
        "num_tweets_below_threshold = freq[freq.index < threshold].sum()\n",
        "\n",
        "# print the total number of tweets below the threshold\n",
        "print(\"Total number of tweets below {} words: {}\".format(threshold, num_tweets_below_threshold))\n"
      ],
      "metadata": {
        "colab": {
          "base_uri": "https://localhost:8080/"
        },
        "id": "VzWVRP3DbhZg",
        "outputId": "0c3a058e-1114-45c5-e340-a901366c1eca"
      },
      "execution_count": null,
      "outputs": [
        {
          "output_type": "stream",
          "name": "stdout",
          "text": [
            "Total number of tweets below 5 words: 3265\n"
          ]
        }
      ]
    },
    {
      "cell_type": "code",
      "source": [
        "df.columns \n"
      ],
      "metadata": {
        "colab": {
          "base_uri": "https://localhost:8080/"
        },
        "id": "uVViiCq8c-YY",
        "outputId": "45fa2cef-2ca7-4299-a88d-becb4749ec33"
      },
      "execution_count": null,
      "outputs": [
        {
          "output_type": "execute_result",
          "data": {
            "text/plain": [
              "Index(['id', 'conversation_id', 'created_at', 'date', 'time', 'timezone',\n",
              "       'user_id', 'username', 'name', 'place', 'text', 'language', 'mentions',\n",
              "       'urls', 'photos', 'replies_count', 'retweets_count', 'likes_count',\n",
              "       'hashtags', 'cashtags', 'link', 'retweet', 'quote_url', 'video',\n",
              "       'thumbnail', 'near', 'geo', 'source', 'user_rt_id', 'user_rt',\n",
              "       'retweet_id', 'reply_to', 'retweet_date', 'translate', 'trans_src',\n",
              "       'trans_dest', 'num_words'],\n",
              "      dtype='object')"
            ]
          },
          "metadata": {},
          "execution_count": 70
        }
      ]
    },
    {
      "cell_type": "code",
      "source": [
        "df.head()"
      ],
      "metadata": {
        "colab": {
          "base_uri": "https://localhost:8080/",
          "height": 634
        },
        "id": "XiJPog0SnlNl",
        "outputId": "138f7bf1-8cda-4c02-e0d8-763f3c3bed35"
      },
      "execution_count": null,
      "outputs": [
        {
          "output_type": "execute_result",
          "data": {
            "text/plain": [
              "                    id      conversation_id               created_at  \\\n",
              "0  1578109493392515073  1578109493392515073  2022-10-06 19:46:37 UTC   \n",
              "1  1578109461184454656  1578101418317082624  2022-10-06 19:46:30 UTC   \n",
              "3  1578109438464241666  1578087822858522630  2022-10-06 19:46:24 UTC   \n",
              "5  1578109398215426048  1578109398215426048  2022-10-06 19:46:15 UTC   \n",
              "7  1578109382625067008  1578109382625067008  2022-10-06 19:46:11 UTC   \n",
              "\n",
              "         date      time  timezone              user_id         username  \\\n",
              "0  2022-10-06  19:46:37         0  1518980837135589376  krystynaklepin1   \n",
              "1  2022-10-06  19:46:30         0  1497906018029907970  turdfur58439807   \n",
              "3  2022-10-06  19:46:24         0             16635842      spectrummag   \n",
              "5  2022-10-06  19:46:15         0             36803382     yakimahealth   \n",
              "7  2022-10-06  19:46:11         0  1550501740956422147         smslausd   \n",
              "\n",
              "                                                name place  \\\n",
              "0                                       Christine K.   NaN   \n",
              "1                                     BlackSanta9111   NaN   \n",
              "3                              SPECTRUM (Since 1969)   NaN   \n",
              "5                             Yakima Health District   NaN   \n",
              "7  Student Medical Services & Medi-Cal Programs L...   NaN   \n",
              "\n",
              "                                                text language  \\\n",
              "0  SAFE &amp; EFFECTIVE. Pfizer skipped major cat...       en   \n",
              "1  Its a very small cohort but it represented unv...       en   \n",
              "3  Lisa Beardsley-Hardy, GC director of education...       en   \n",
              "5  West Valley Junior High School will hold a com...       en   \n",
              "7  Free Covid-19 vaccinations will be provided by...       en   \n",
              "\n",
              "                                            mentions  \\\n",
              "0                                                 []   \n",
              "1                                                 []   \n",
              "3                                                 []   \n",
              "5                                                 []   \n",
              "7  [{'screen_name': 'lovewfhc', 'name': 'wfhc', '...   \n",
              "\n",
              "                            urls  \\\n",
              "0                             []   \n",
              "1                             []   \n",
              "3                             []   \n",
              "5  ['http://YakimaVaccines.org']   \n",
              "7                             []   \n",
              "\n",
              "                                              photos  replies_count  \\\n",
              "0                                                 []              0   \n",
              "1  ['https://pbs.twimg.com/media/FeaR-nlXEBsl6BB....              0   \n",
              "3  ['https://pbs.twimg.com/media/FeaSGnfaYAAdYva....              0   \n",
              "5  ['https://pbs.twimg.com/media/FeaSIlqXwAA3uLw....              0   \n",
              "7  ['https://pbs.twimg.com/media/FeaSHNgVIAIcdXg....              0   \n",
              "\n",
              "   retweets_count  likes_count    hashtags cashtags  \\\n",
              "0               0            0          []       []   \n",
              "1               0            1          []       []   \n",
              "3               0            0  ['gcac22']       []   \n",
              "5               0            0          []       []   \n",
              "7               0            1          []       []   \n",
              "\n",
              "                                                link  retweet quote_url  \\\n",
              "0  https://twitter.com/KrystynaKlepin1/status/157...    False       NaN   \n",
              "1  https://twitter.com/TurdFur58439807/status/157...    False       NaN   \n",
              "3  https://twitter.com/spectrummag/status/1578109...    False       NaN   \n",
              "5  https://twitter.com/yakimahealth/status/157810...    False       NaN   \n",
              "7  https://twitter.com/SMSLausd/status/1578109382...    False       NaN   \n",
              "\n",
              "   video                                        thumbnail  near  geo  source  \\\n",
              "0      0                                              NaN   NaN  NaN     NaN   \n",
              "1      1  https://pbs.twimg.com/media/FeaR-nlXEBsl6BB.jpg   NaN  NaN     NaN   \n",
              "3      1  https://pbs.twimg.com/media/FeaSGnfaYAAdYva.jpg   NaN  NaN     NaN   \n",
              "5      1  https://pbs.twimg.com/media/FeaSIlqXwAA3uLw.jpg   NaN  NaN     NaN   \n",
              "7      1  https://pbs.twimg.com/media/FeaSHNgVIAIcdXg.jpg   NaN  NaN     NaN   \n",
              "\n",
              "   user_rt_id  user_rt  retweet_id  \\\n",
              "0         NaN      NaN         NaN   \n",
              "1         NaN      NaN         NaN   \n",
              "3         NaN      NaN         NaN   \n",
              "5         NaN      NaN         NaN   \n",
              "7         NaN      NaN         NaN   \n",
              "\n",
              "                                            reply_to  retweet_date  translate  \\\n",
              "0                                                 []           NaN        NaN   \n",
              "1  [{'screen_name': 'montanamike_tx', 'name': 'mi...           NaN        NaN   \n",
              "3                                                 []           NaN        NaN   \n",
              "5                                                 []           NaN        NaN   \n",
              "7                                                 []           NaN        NaN   \n",
              "\n",
              "   trans_src  trans_dest  num_words  \n",
              "0        NaN         NaN         41  \n",
              "1        NaN         NaN         26  \n",
              "3        NaN         NaN         34  \n",
              "5        NaN         NaN         39  \n",
              "7        NaN         NaN         27  "
            ],
            "text/html": [
              "\n",
              "  <div id=\"df-1f62f823-1280-449c-ae4a-fd8ebe80ee87\">\n",
              "    <div class=\"colab-df-container\">\n",
              "      <div>\n",
              "<style scoped>\n",
              "    .dataframe tbody tr th:only-of-type {\n",
              "        vertical-align: middle;\n",
              "    }\n",
              "\n",
              "    .dataframe tbody tr th {\n",
              "        vertical-align: top;\n",
              "    }\n",
              "\n",
              "    .dataframe thead th {\n",
              "        text-align: right;\n",
              "    }\n",
              "</style>\n",
              "<table border=\"1\" class=\"dataframe\">\n",
              "  <thead>\n",
              "    <tr style=\"text-align: right;\">\n",
              "      <th></th>\n",
              "      <th>id</th>\n",
              "      <th>conversation_id</th>\n",
              "      <th>created_at</th>\n",
              "      <th>date</th>\n",
              "      <th>time</th>\n",
              "      <th>timezone</th>\n",
              "      <th>user_id</th>\n",
              "      <th>username</th>\n",
              "      <th>name</th>\n",
              "      <th>place</th>\n",
              "      <th>text</th>\n",
              "      <th>language</th>\n",
              "      <th>mentions</th>\n",
              "      <th>urls</th>\n",
              "      <th>photos</th>\n",
              "      <th>replies_count</th>\n",
              "      <th>retweets_count</th>\n",
              "      <th>likes_count</th>\n",
              "      <th>hashtags</th>\n",
              "      <th>cashtags</th>\n",
              "      <th>link</th>\n",
              "      <th>retweet</th>\n",
              "      <th>quote_url</th>\n",
              "      <th>video</th>\n",
              "      <th>thumbnail</th>\n",
              "      <th>near</th>\n",
              "      <th>geo</th>\n",
              "      <th>source</th>\n",
              "      <th>user_rt_id</th>\n",
              "      <th>user_rt</th>\n",
              "      <th>retweet_id</th>\n",
              "      <th>reply_to</th>\n",
              "      <th>retweet_date</th>\n",
              "      <th>translate</th>\n",
              "      <th>trans_src</th>\n",
              "      <th>trans_dest</th>\n",
              "      <th>num_words</th>\n",
              "    </tr>\n",
              "  </thead>\n",
              "  <tbody>\n",
              "    <tr>\n",
              "      <th>0</th>\n",
              "      <td>1578109493392515073</td>\n",
              "      <td>1578109493392515073</td>\n",
              "      <td>2022-10-06 19:46:37 UTC</td>\n",
              "      <td>2022-10-06</td>\n",
              "      <td>19:46:37</td>\n",
              "      <td>0</td>\n",
              "      <td>1518980837135589376</td>\n",
              "      <td>krystynaklepin1</td>\n",
              "      <td>Christine K.</td>\n",
              "      <td>NaN</td>\n",
              "      <td>SAFE &amp;amp; EFFECTIVE. Pfizer skipped major cat...</td>\n",
              "      <td>en</td>\n",
              "      <td>[]</td>\n",
              "      <td>[]</td>\n",
              "      <td>[]</td>\n",
              "      <td>0</td>\n",
              "      <td>0</td>\n",
              "      <td>0</td>\n",
              "      <td>[]</td>\n",
              "      <td>[]</td>\n",
              "      <td>https://twitter.com/KrystynaKlepin1/status/157...</td>\n",
              "      <td>False</td>\n",
              "      <td>NaN</td>\n",
              "      <td>0</td>\n",
              "      <td>NaN</td>\n",
              "      <td>NaN</td>\n",
              "      <td>NaN</td>\n",
              "      <td>NaN</td>\n",
              "      <td>NaN</td>\n",
              "      <td>NaN</td>\n",
              "      <td>NaN</td>\n",
              "      <td>[]</td>\n",
              "      <td>NaN</td>\n",
              "      <td>NaN</td>\n",
              "      <td>NaN</td>\n",
              "      <td>NaN</td>\n",
              "      <td>41</td>\n",
              "    </tr>\n",
              "    <tr>\n",
              "      <th>1</th>\n",
              "      <td>1578109461184454656</td>\n",
              "      <td>1578101418317082624</td>\n",
              "      <td>2022-10-06 19:46:30 UTC</td>\n",
              "      <td>2022-10-06</td>\n",
              "      <td>19:46:30</td>\n",
              "      <td>0</td>\n",
              "      <td>1497906018029907970</td>\n",
              "      <td>turdfur58439807</td>\n",
              "      <td>BlackSanta9111</td>\n",
              "      <td>NaN</td>\n",
              "      <td>Its a very small cohort but it represented unv...</td>\n",
              "      <td>en</td>\n",
              "      <td>[]</td>\n",
              "      <td>[]</td>\n",
              "      <td>['https://pbs.twimg.com/media/FeaR-nlXEBsl6BB....</td>\n",
              "      <td>0</td>\n",
              "      <td>0</td>\n",
              "      <td>1</td>\n",
              "      <td>[]</td>\n",
              "      <td>[]</td>\n",
              "      <td>https://twitter.com/TurdFur58439807/status/157...</td>\n",
              "      <td>False</td>\n",
              "      <td>NaN</td>\n",
              "      <td>1</td>\n",
              "      <td>https://pbs.twimg.com/media/FeaR-nlXEBsl6BB.jpg</td>\n",
              "      <td>NaN</td>\n",
              "      <td>NaN</td>\n",
              "      <td>NaN</td>\n",
              "      <td>NaN</td>\n",
              "      <td>NaN</td>\n",
              "      <td>NaN</td>\n",
              "      <td>[{'screen_name': 'montanamike_tx', 'name': 'mi...</td>\n",
              "      <td>NaN</td>\n",
              "      <td>NaN</td>\n",
              "      <td>NaN</td>\n",
              "      <td>NaN</td>\n",
              "      <td>26</td>\n",
              "    </tr>\n",
              "    <tr>\n",
              "      <th>3</th>\n",
              "      <td>1578109438464241666</td>\n",
              "      <td>1578087822858522630</td>\n",
              "      <td>2022-10-06 19:46:24 UTC</td>\n",
              "      <td>2022-10-06</td>\n",
              "      <td>19:46:24</td>\n",
              "      <td>0</td>\n",
              "      <td>16635842</td>\n",
              "      <td>spectrummag</td>\n",
              "      <td>SPECTRUM (Since 1969)</td>\n",
              "      <td>NaN</td>\n",
              "      <td>Lisa Beardsley-Hardy, GC director of education...</td>\n",
              "      <td>en</td>\n",
              "      <td>[]</td>\n",
              "      <td>[]</td>\n",
              "      <td>['https://pbs.twimg.com/media/FeaSGnfaYAAdYva....</td>\n",
              "      <td>0</td>\n",
              "      <td>0</td>\n",
              "      <td>0</td>\n",
              "      <td>['gcac22']</td>\n",
              "      <td>[]</td>\n",
              "      <td>https://twitter.com/spectrummag/status/1578109...</td>\n",
              "      <td>False</td>\n",
              "      <td>NaN</td>\n",
              "      <td>1</td>\n",
              "      <td>https://pbs.twimg.com/media/FeaSGnfaYAAdYva.jpg</td>\n",
              "      <td>NaN</td>\n",
              "      <td>NaN</td>\n",
              "      <td>NaN</td>\n",
              "      <td>NaN</td>\n",
              "      <td>NaN</td>\n",
              "      <td>NaN</td>\n",
              "      <td>[]</td>\n",
              "      <td>NaN</td>\n",
              "      <td>NaN</td>\n",
              "      <td>NaN</td>\n",
              "      <td>NaN</td>\n",
              "      <td>34</td>\n",
              "    </tr>\n",
              "    <tr>\n",
              "      <th>5</th>\n",
              "      <td>1578109398215426048</td>\n",
              "      <td>1578109398215426048</td>\n",
              "      <td>2022-10-06 19:46:15 UTC</td>\n",
              "      <td>2022-10-06</td>\n",
              "      <td>19:46:15</td>\n",
              "      <td>0</td>\n",
              "      <td>36803382</td>\n",
              "      <td>yakimahealth</td>\n",
              "      <td>Yakima Health District</td>\n",
              "      <td>NaN</td>\n",
              "      <td>West Valley Junior High School will hold a com...</td>\n",
              "      <td>en</td>\n",
              "      <td>[]</td>\n",
              "      <td>['http://YakimaVaccines.org']</td>\n",
              "      <td>['https://pbs.twimg.com/media/FeaSIlqXwAA3uLw....</td>\n",
              "      <td>0</td>\n",
              "      <td>0</td>\n",
              "      <td>0</td>\n",
              "      <td>[]</td>\n",
              "      <td>[]</td>\n",
              "      <td>https://twitter.com/yakimahealth/status/157810...</td>\n",
              "      <td>False</td>\n",
              "      <td>NaN</td>\n",
              "      <td>1</td>\n",
              "      <td>https://pbs.twimg.com/media/FeaSIlqXwAA3uLw.jpg</td>\n",
              "      <td>NaN</td>\n",
              "      <td>NaN</td>\n",
              "      <td>NaN</td>\n",
              "      <td>NaN</td>\n",
              "      <td>NaN</td>\n",
              "      <td>NaN</td>\n",
              "      <td>[]</td>\n",
              "      <td>NaN</td>\n",
              "      <td>NaN</td>\n",
              "      <td>NaN</td>\n",
              "      <td>NaN</td>\n",
              "      <td>39</td>\n",
              "    </tr>\n",
              "    <tr>\n",
              "      <th>7</th>\n",
              "      <td>1578109382625067008</td>\n",
              "      <td>1578109382625067008</td>\n",
              "      <td>2022-10-06 19:46:11 UTC</td>\n",
              "      <td>2022-10-06</td>\n",
              "      <td>19:46:11</td>\n",
              "      <td>0</td>\n",
              "      <td>1550501740956422147</td>\n",
              "      <td>smslausd</td>\n",
              "      <td>Student Medical Services &amp; Medi-Cal Programs L...</td>\n",
              "      <td>NaN</td>\n",
              "      <td>Free Covid-19 vaccinations will be provided by...</td>\n",
              "      <td>en</td>\n",
              "      <td>[{'screen_name': 'lovewfhc', 'name': 'wfhc', '...</td>\n",
              "      <td>[]</td>\n",
              "      <td>['https://pbs.twimg.com/media/FeaSHNgVIAIcdXg....</td>\n",
              "      <td>0</td>\n",
              "      <td>0</td>\n",
              "      <td>1</td>\n",
              "      <td>[]</td>\n",
              "      <td>[]</td>\n",
              "      <td>https://twitter.com/SMSLausd/status/1578109382...</td>\n",
              "      <td>False</td>\n",
              "      <td>NaN</td>\n",
              "      <td>1</td>\n",
              "      <td>https://pbs.twimg.com/media/FeaSHNgVIAIcdXg.jpg</td>\n",
              "      <td>NaN</td>\n",
              "      <td>NaN</td>\n",
              "      <td>NaN</td>\n",
              "      <td>NaN</td>\n",
              "      <td>NaN</td>\n",
              "      <td>NaN</td>\n",
              "      <td>[]</td>\n",
              "      <td>NaN</td>\n",
              "      <td>NaN</td>\n",
              "      <td>NaN</td>\n",
              "      <td>NaN</td>\n",
              "      <td>27</td>\n",
              "    </tr>\n",
              "  </tbody>\n",
              "</table>\n",
              "</div>\n",
              "      <button class=\"colab-df-convert\" onclick=\"convertToInteractive('df-1f62f823-1280-449c-ae4a-fd8ebe80ee87')\"\n",
              "              title=\"Convert this dataframe to an interactive table.\"\n",
              "              style=\"display:none;\">\n",
              "        \n",
              "  <svg xmlns=\"http://www.w3.org/2000/svg\" height=\"24px\"viewBox=\"0 0 24 24\"\n",
              "       width=\"24px\">\n",
              "    <path d=\"M0 0h24v24H0V0z\" fill=\"none\"/>\n",
              "    <path d=\"M18.56 5.44l.94 2.06.94-2.06 2.06-.94-2.06-.94-.94-2.06-.94 2.06-2.06.94zm-11 1L8.5 8.5l.94-2.06 2.06-.94-2.06-.94L8.5 2.5l-.94 2.06-2.06.94zm10 10l.94 2.06.94-2.06 2.06-.94-2.06-.94-.94-2.06-.94 2.06-2.06.94z\"/><path d=\"M17.41 7.96l-1.37-1.37c-.4-.4-.92-.59-1.43-.59-.52 0-1.04.2-1.43.59L10.3 9.45l-7.72 7.72c-.78.78-.78 2.05 0 2.83L4 21.41c.39.39.9.59 1.41.59.51 0 1.02-.2 1.41-.59l7.78-7.78 2.81-2.81c.8-.78.8-2.07 0-2.86zM5.41 20L4 18.59l7.72-7.72 1.47 1.35L5.41 20z\"/>\n",
              "  </svg>\n",
              "      </button>\n",
              "      \n",
              "  <style>\n",
              "    .colab-df-container {\n",
              "      display:flex;\n",
              "      flex-wrap:wrap;\n",
              "      gap: 12px;\n",
              "    }\n",
              "\n",
              "    .colab-df-convert {\n",
              "      background-color: #E8F0FE;\n",
              "      border: none;\n",
              "      border-radius: 50%;\n",
              "      cursor: pointer;\n",
              "      display: none;\n",
              "      fill: #1967D2;\n",
              "      height: 32px;\n",
              "      padding: 0 0 0 0;\n",
              "      width: 32px;\n",
              "    }\n",
              "\n",
              "    .colab-df-convert:hover {\n",
              "      background-color: #E2EBFA;\n",
              "      box-shadow: 0px 1px 2px rgba(60, 64, 67, 0.3), 0px 1px 3px 1px rgba(60, 64, 67, 0.15);\n",
              "      fill: #174EA6;\n",
              "    }\n",
              "\n",
              "    [theme=dark] .colab-df-convert {\n",
              "      background-color: #3B4455;\n",
              "      fill: #D2E3FC;\n",
              "    }\n",
              "\n",
              "    [theme=dark] .colab-df-convert:hover {\n",
              "      background-color: #434B5C;\n",
              "      box-shadow: 0px 1px 3px 1px rgba(0, 0, 0, 0.15);\n",
              "      filter: drop-shadow(0px 1px 2px rgba(0, 0, 0, 0.3));\n",
              "      fill: #FFFFFF;\n",
              "    }\n",
              "  </style>\n",
              "\n",
              "      <script>\n",
              "        const buttonEl =\n",
              "          document.querySelector('#df-1f62f823-1280-449c-ae4a-fd8ebe80ee87 button.colab-df-convert');\n",
              "        buttonEl.style.display =\n",
              "          google.colab.kernel.accessAllowed ? 'block' : 'none';\n",
              "\n",
              "        async function convertToInteractive(key) {\n",
              "          const element = document.querySelector('#df-1f62f823-1280-449c-ae4a-fd8ebe80ee87');\n",
              "          const dataTable =\n",
              "            await google.colab.kernel.invokeFunction('convertToInteractive',\n",
              "                                                     [key], {});\n",
              "          if (!dataTable) return;\n",
              "\n",
              "          const docLinkHtml = 'Like what you see? Visit the ' +\n",
              "            '<a target=\"_blank\" href=https://colab.research.google.com/notebooks/data_table.ipynb>data table notebook</a>'\n",
              "            + ' to learn more about interactive tables.';\n",
              "          element.innerHTML = '';\n",
              "          dataTable['output_type'] = 'display_data';\n",
              "          await google.colab.output.renderOutput(dataTable, element);\n",
              "          const docLink = document.createElement('div');\n",
              "          docLink.innerHTML = docLinkHtml;\n",
              "          element.appendChild(docLink);\n",
              "        }\n",
              "      </script>\n",
              "    </div>\n",
              "  </div>\n",
              "  "
            ]
          },
          "metadata": {},
          "execution_count": 71
        }
      ]
    },
    {
      "cell_type": "code",
      "source": [
        "# select only the 'tweet' column - consistent with the \n",
        "\n",
        "text = df['text']\n"
      ],
      "metadata": {
        "id": "XJV4Y5G5c-VA"
      },
      "execution_count": null,
      "outputs": []
    },
    {
      "cell_type": "markdown",
      "source": [],
      "metadata": {
        "id": "k4-S2AEx1wGm"
      }
    },
    {
      "cell_type": "code",
      "source": [],
      "metadata": {
        "id": "1cZFoN6Z1vdM"
      },
      "execution_count": null,
      "outputs": []
    },
    {
      "cell_type": "markdown",
      "source": [
        "#Tokenizing and Padding \n",
        "\n",
        "##Optional step: Text to list -> not a problem... "
      ],
      "metadata": {
        "id": "y21O0DqiFfgx"
      }
    },
    {
      "cell_type": "code",
      "source": [
        "# Define functions for tokenizing and padding\n",
        "def tokenize_and_pad_sequences(text, tokenizer, max_len):\n",
        "    sequences = tokenizer.texts_to_sequences(text)\n",
        "    padded_sequences = pad_sequences(sequences, truncating='post', maxlen=max_len, padding='post')\n",
        "    return padded_sequences\n"
      ],
      "metadata": {
        "id": "U-1GVOROFe3t"
      },
      "execution_count": null,
      "outputs": []
    },
    {
      "cell_type": "code",
      "source": [
        "# Tokenize and pad input sequences\n",
        "tokenizer = Tokenizer(num_words=93886, oov_token='<UNK>')\n",
        "tokenizer.fit_on_texts(text)\n",
        "padded_sequences_400 = tokenize_and_pad_sequences(text, tokenizer, 400)\n",
        "padded_sequences_300 = tokenize_and_pad_sequences(text, tokenizer, 300)\n",
        "\n",
        "# Generate the predictions\n",
        "anger_10_preds = np.argmax(anger_model_10.predict(padded_sequences_400), axis=-1)\n",
        "anger_75_preds = np.argmax(anger_model_75.predict(padded_sequences_400), axis=-1)\n",
        "fear_10_preds = np.argmax(fear_model_10.predict(padded_sequences_300), axis=-1)\n",
        "fear_75_preds = np.argmax(fear_model_75.predict(padded_sequences_400), axis=-1)\n",
        "\n",
        "# Create dataframe of predictions\n",
        "pred_df = pd.DataFrame({\n",
        "    'text': text,\n",
        "    'anger_10': anger_10_preds,\n",
        "    'anger_75': anger_75_preds,\n",
        "    'fear_10': fear_10_preds,\n",
        "    'fear_75': fear_75_preds\n",
        "})\n"
      ],
      "metadata": {
        "colab": {
          "base_uri": "https://localhost:8080/"
        },
        "id": "sKFcW9uoftZm",
        "outputId": "caa2ccdb-b5dc-40d8-b22e-35d989744415"
      },
      "execution_count": null,
      "outputs": [
        {
          "output_type": "stream",
          "name": "stdout",
          "text": [
            "3647/3647 [==============================] - 188s 51ms/step\n",
            "3647/3647 [==============================] - 188s 51ms/step\n",
            "3647/3647 [==============================] - 104s 28ms/step\n",
            "3647/3647 [==============================] - 135s 37ms/step\n"
          ]
        }
      ]
    },
    {
      "cell_type": "markdown",
      "source": [
        "#Exploring the inference dataset - sample size!?!? "
      ],
      "metadata": {
        "id": "n383R67aMt64"
      }
    },
    {
      "cell_type": "code",
      "source": [
        "#What are the dimensions? \n",
        "\n",
        "pred_df.shape"
      ],
      "metadata": {
        "id": "aRdkGCEDfwY1",
        "colab": {
          "base_uri": "https://localhost:8080/"
        },
        "outputId": "31bd9853-7e92-498a-a4db-2a1ffc7954c1"
      },
      "execution_count": null,
      "outputs": [
        {
          "output_type": "execute_result",
          "data": {
            "text/plain": [
              "(116687, 5)"
            ]
          },
          "metadata": {},
          "execution_count": 75
        }
      ]
    },
    {
      "cell_type": "code",
      "source": [
        "#pred_df.tail(25)\n",
        "\n",
        "pred_df"
      ],
      "metadata": {
        "id": "F1Uw5HpUMs-F",
        "colab": {
          "base_uri": "https://localhost:8080/",
          "height": 424
        },
        "outputId": "cae52077-629b-44af-8848-3a21de70cf3b"
      },
      "execution_count": null,
      "outputs": [
        {
          "output_type": "execute_result",
          "data": {
            "text/plain": [
              "                                                     text  anger_10  anger_75  \\\n",
              "0       SAFE &amp; EFFECTIVE. Pfizer skipped major cat...         1         2   \n",
              "1       Its a very small cohort but it represented unv...         4         4   \n",
              "3       Lisa Beardsley-Hardy, GC director of education...         4         1   \n",
              "5       West Valley Junior High School will hold a com...         4         2   \n",
              "7       Free Covid-19 vaccinations will be provided by...         5         4   \n",
              "...                                                   ...       ...       ...   \n",
              "223943  \" Safe and Effective: A Second Opinion shines ...         5         2   \n",
              "223945  Covid-19 inspired people to circumvent censors...         2         4   \n",
              "223946              Just like trump caused Covid-19 right         4         4   \n",
              "223952  Hastings restaurant owner said she was fined b...         5         2   \n",
              "223953  Will RABID sicko HATERS block Trump from negot...         2         4   \n",
              "\n",
              "        fear_10  fear_75  \n",
              "0             5        4  \n",
              "1             4        3  \n",
              "3             4        0  \n",
              "5             1        0  \n",
              "7             1        0  \n",
              "...         ...      ...  \n",
              "223943        4        1  \n",
              "223945        4        4  \n",
              "223946        4        3  \n",
              "223952        4        4  \n",
              "223953        0        1  \n",
              "\n",
              "[116687 rows x 5 columns]"
            ],
            "text/html": [
              "\n",
              "  <div id=\"df-936b0d5f-180c-4502-8644-a5d36894805e\">\n",
              "    <div class=\"colab-df-container\">\n",
              "      <div>\n",
              "<style scoped>\n",
              "    .dataframe tbody tr th:only-of-type {\n",
              "        vertical-align: middle;\n",
              "    }\n",
              "\n",
              "    .dataframe tbody tr th {\n",
              "        vertical-align: top;\n",
              "    }\n",
              "\n",
              "    .dataframe thead th {\n",
              "        text-align: right;\n",
              "    }\n",
              "</style>\n",
              "<table border=\"1\" class=\"dataframe\">\n",
              "  <thead>\n",
              "    <tr style=\"text-align: right;\">\n",
              "      <th></th>\n",
              "      <th>text</th>\n",
              "      <th>anger_10</th>\n",
              "      <th>anger_75</th>\n",
              "      <th>fear_10</th>\n",
              "      <th>fear_75</th>\n",
              "    </tr>\n",
              "  </thead>\n",
              "  <tbody>\n",
              "    <tr>\n",
              "      <th>0</th>\n",
              "      <td>SAFE &amp;amp; EFFECTIVE. Pfizer skipped major cat...</td>\n",
              "      <td>1</td>\n",
              "      <td>2</td>\n",
              "      <td>5</td>\n",
              "      <td>4</td>\n",
              "    </tr>\n",
              "    <tr>\n",
              "      <th>1</th>\n",
              "      <td>Its a very small cohort but it represented unv...</td>\n",
              "      <td>4</td>\n",
              "      <td>4</td>\n",
              "      <td>4</td>\n",
              "      <td>3</td>\n",
              "    </tr>\n",
              "    <tr>\n",
              "      <th>3</th>\n",
              "      <td>Lisa Beardsley-Hardy, GC director of education...</td>\n",
              "      <td>4</td>\n",
              "      <td>1</td>\n",
              "      <td>4</td>\n",
              "      <td>0</td>\n",
              "    </tr>\n",
              "    <tr>\n",
              "      <th>5</th>\n",
              "      <td>West Valley Junior High School will hold a com...</td>\n",
              "      <td>4</td>\n",
              "      <td>2</td>\n",
              "      <td>1</td>\n",
              "      <td>0</td>\n",
              "    </tr>\n",
              "    <tr>\n",
              "      <th>7</th>\n",
              "      <td>Free Covid-19 vaccinations will be provided by...</td>\n",
              "      <td>5</td>\n",
              "      <td>4</td>\n",
              "      <td>1</td>\n",
              "      <td>0</td>\n",
              "    </tr>\n",
              "    <tr>\n",
              "      <th>...</th>\n",
              "      <td>...</td>\n",
              "      <td>...</td>\n",
              "      <td>...</td>\n",
              "      <td>...</td>\n",
              "      <td>...</td>\n",
              "    </tr>\n",
              "    <tr>\n",
              "      <th>223943</th>\n",
              "      <td>\" Safe and Effective: A Second Opinion shines ...</td>\n",
              "      <td>5</td>\n",
              "      <td>2</td>\n",
              "      <td>4</td>\n",
              "      <td>1</td>\n",
              "    </tr>\n",
              "    <tr>\n",
              "      <th>223945</th>\n",
              "      <td>Covid-19 inspired people to circumvent censors...</td>\n",
              "      <td>2</td>\n",
              "      <td>4</td>\n",
              "      <td>4</td>\n",
              "      <td>4</td>\n",
              "    </tr>\n",
              "    <tr>\n",
              "      <th>223946</th>\n",
              "      <td>Just like trump caused Covid-19 right</td>\n",
              "      <td>4</td>\n",
              "      <td>4</td>\n",
              "      <td>4</td>\n",
              "      <td>3</td>\n",
              "    </tr>\n",
              "    <tr>\n",
              "      <th>223952</th>\n",
              "      <td>Hastings restaurant owner said she was fined b...</td>\n",
              "      <td>5</td>\n",
              "      <td>2</td>\n",
              "      <td>4</td>\n",
              "      <td>4</td>\n",
              "    </tr>\n",
              "    <tr>\n",
              "      <th>223953</th>\n",
              "      <td>Will RABID sicko HATERS block Trump from negot...</td>\n",
              "      <td>2</td>\n",
              "      <td>4</td>\n",
              "      <td>0</td>\n",
              "      <td>1</td>\n",
              "    </tr>\n",
              "  </tbody>\n",
              "</table>\n",
              "<p>116687 rows × 5 columns</p>\n",
              "</div>\n",
              "      <button class=\"colab-df-convert\" onclick=\"convertToInteractive('df-936b0d5f-180c-4502-8644-a5d36894805e')\"\n",
              "              title=\"Convert this dataframe to an interactive table.\"\n",
              "              style=\"display:none;\">\n",
              "        \n",
              "  <svg xmlns=\"http://www.w3.org/2000/svg\" height=\"24px\"viewBox=\"0 0 24 24\"\n",
              "       width=\"24px\">\n",
              "    <path d=\"M0 0h24v24H0V0z\" fill=\"none\"/>\n",
              "    <path d=\"M18.56 5.44l.94 2.06.94-2.06 2.06-.94-2.06-.94-.94-2.06-.94 2.06-2.06.94zm-11 1L8.5 8.5l.94-2.06 2.06-.94-2.06-.94L8.5 2.5l-.94 2.06-2.06.94zm10 10l.94 2.06.94-2.06 2.06-.94-2.06-.94-.94-2.06-.94 2.06-2.06.94z\"/><path d=\"M17.41 7.96l-1.37-1.37c-.4-.4-.92-.59-1.43-.59-.52 0-1.04.2-1.43.59L10.3 9.45l-7.72 7.72c-.78.78-.78 2.05 0 2.83L4 21.41c.39.39.9.59 1.41.59.51 0 1.02-.2 1.41-.59l7.78-7.78 2.81-2.81c.8-.78.8-2.07 0-2.86zM5.41 20L4 18.59l7.72-7.72 1.47 1.35L5.41 20z\"/>\n",
              "  </svg>\n",
              "      </button>\n",
              "      \n",
              "  <style>\n",
              "    .colab-df-container {\n",
              "      display:flex;\n",
              "      flex-wrap:wrap;\n",
              "      gap: 12px;\n",
              "    }\n",
              "\n",
              "    .colab-df-convert {\n",
              "      background-color: #E8F0FE;\n",
              "      border: none;\n",
              "      border-radius: 50%;\n",
              "      cursor: pointer;\n",
              "      display: none;\n",
              "      fill: #1967D2;\n",
              "      height: 32px;\n",
              "      padding: 0 0 0 0;\n",
              "      width: 32px;\n",
              "    }\n",
              "\n",
              "    .colab-df-convert:hover {\n",
              "      background-color: #E2EBFA;\n",
              "      box-shadow: 0px 1px 2px rgba(60, 64, 67, 0.3), 0px 1px 3px 1px rgba(60, 64, 67, 0.15);\n",
              "      fill: #174EA6;\n",
              "    }\n",
              "\n",
              "    [theme=dark] .colab-df-convert {\n",
              "      background-color: #3B4455;\n",
              "      fill: #D2E3FC;\n",
              "    }\n",
              "\n",
              "    [theme=dark] .colab-df-convert:hover {\n",
              "      background-color: #434B5C;\n",
              "      box-shadow: 0px 1px 3px 1px rgba(0, 0, 0, 0.15);\n",
              "      filter: drop-shadow(0px 1px 2px rgba(0, 0, 0, 0.3));\n",
              "      fill: #FFFFFF;\n",
              "    }\n",
              "  </style>\n",
              "\n",
              "      <script>\n",
              "        const buttonEl =\n",
              "          document.querySelector('#df-936b0d5f-180c-4502-8644-a5d36894805e button.colab-df-convert');\n",
              "        buttonEl.style.display =\n",
              "          google.colab.kernel.accessAllowed ? 'block' : 'none';\n",
              "\n",
              "        async function convertToInteractive(key) {\n",
              "          const element = document.querySelector('#df-936b0d5f-180c-4502-8644-a5d36894805e');\n",
              "          const dataTable =\n",
              "            await google.colab.kernel.invokeFunction('convertToInteractive',\n",
              "                                                     [key], {});\n",
              "          if (!dataTable) return;\n",
              "\n",
              "          const docLinkHtml = 'Like what you see? Visit the ' +\n",
              "            '<a target=\"_blank\" href=https://colab.research.google.com/notebooks/data_table.ipynb>data table notebook</a>'\n",
              "            + ' to learn more about interactive tables.';\n",
              "          element.innerHTML = '';\n",
              "          dataTable['output_type'] = 'display_data';\n",
              "          await google.colab.output.renderOutput(dataTable, element);\n",
              "          const docLink = document.createElement('div');\n",
              "          docLink.innerHTML = docLinkHtml;\n",
              "          element.appendChild(docLink);\n",
              "        }\n",
              "      </script>\n",
              "    </div>\n",
              "  </div>\n",
              "  "
            ]
          },
          "metadata": {},
          "execution_count": 76
        }
      ]
    },
    {
      "cell_type": "code",
      "source": [
        "pred_df.shape"
      ],
      "metadata": {
        "id": "iMIeUq4JOrr0",
        "colab": {
          "base_uri": "https://localhost:8080/"
        },
        "outputId": "d5185f59-8b21-4bda-c494-ebcac68736c0"
      },
      "execution_count": null,
      "outputs": [
        {
          "output_type": "execute_result",
          "data": {
            "text/plain": [
              "(116687, 5)"
            ]
          },
          "metadata": {},
          "execution_count": 77
        }
      ]
    },
    {
      "cell_type": "code",
      "source": [
        "#Let's look at the correlations? \n",
        "\n",
        "pred_df.corr()"
      ],
      "metadata": {
        "id": "tNWyH-00OPkU",
        "outputId": "3eb0c0c1-d799-452b-8ccc-6b7adc6641da",
        "colab": {
          "base_uri": "https://localhost:8080/",
          "height": 363
        }
      },
      "execution_count": null,
      "outputs": [
        {
          "output_type": "execute_result",
          "data": {
            "text/plain": [
              "               anger_10  anger_75   fear_10   fear_75  anger_diff  fear_diff  \\\n",
              "anger_10       1.000000 -0.012405  0.015945  0.011184   -0.435113  -0.002191   \n",
              "anger_75      -0.012405  1.000000  0.006750  0.008034   -0.494175  -0.016126   \n",
              "fear_10        0.015945  0.006750  1.000000  0.008216   -0.019483   0.131025   \n",
              "fear_75        0.011184  0.008034  0.008216  1.000000   -0.005348  -0.622230   \n",
              "anger_diff    -0.435113 -0.494175 -0.019483 -0.005348    1.000000   0.003358   \n",
              "fear_diff     -0.002191 -0.016126  0.131025 -0.622230    0.003358   1.000000   \n",
              "anger_total    0.796021  0.595347  0.016898  0.013850   -0.648759  -0.011522   \n",
              "fear_total     0.018680  0.010451  0.637437  0.775714   -0.016417  -0.396755   \n",
              "emotion_total  0.524086  0.389311  0.491619  0.593962   -0.428031  -0.306637   \n",
              "word_count     0.085961 -0.105358  0.017480  0.061381    0.032111  -0.002808   \n",
              "\n",
              "               anger_total  fear_total  emotion_total  word_count  \n",
              "anger_10          0.796021    0.018680       0.524086    0.085961  \n",
              "anger_75          0.595347    0.010451       0.389311   -0.105358  \n",
              "fear_10           0.016898    0.637437       0.491619    0.017480  \n",
              "fear_75           0.013850    0.775714       0.593962    0.061381  \n",
              "anger_diff       -0.648759   -0.016417      -0.428031    0.032111  \n",
              "fear_diff        -0.011522   -0.396755      -0.306637   -0.002808  \n",
              "anger_total       1.000000    0.021336       0.656775    0.005298  \n",
              "fear_total        0.021336    1.000000       0.767928    0.058328  \n",
              "emotion_total     0.656775    0.767928       1.000000    0.047389  \n",
              "word_count        0.005298    0.058328       0.047389    1.000000  "
            ],
            "text/html": [
              "\n",
              "  <div id=\"df-19c07847-4cad-475c-92a4-6c3a2bb51226\">\n",
              "    <div class=\"colab-df-container\">\n",
              "      <div>\n",
              "<style scoped>\n",
              "    .dataframe tbody tr th:only-of-type {\n",
              "        vertical-align: middle;\n",
              "    }\n",
              "\n",
              "    .dataframe tbody tr th {\n",
              "        vertical-align: top;\n",
              "    }\n",
              "\n",
              "    .dataframe thead th {\n",
              "        text-align: right;\n",
              "    }\n",
              "</style>\n",
              "<table border=\"1\" class=\"dataframe\">\n",
              "  <thead>\n",
              "    <tr style=\"text-align: right;\">\n",
              "      <th></th>\n",
              "      <th>anger_10</th>\n",
              "      <th>anger_75</th>\n",
              "      <th>fear_10</th>\n",
              "      <th>fear_75</th>\n",
              "      <th>anger_diff</th>\n",
              "      <th>fear_diff</th>\n",
              "      <th>anger_total</th>\n",
              "      <th>fear_total</th>\n",
              "      <th>emotion_total</th>\n",
              "      <th>word_count</th>\n",
              "    </tr>\n",
              "  </thead>\n",
              "  <tbody>\n",
              "    <tr>\n",
              "      <th>anger_10</th>\n",
              "      <td>1.000000</td>\n",
              "      <td>-0.012405</td>\n",
              "      <td>0.015945</td>\n",
              "      <td>0.011184</td>\n",
              "      <td>-0.435113</td>\n",
              "      <td>-0.002191</td>\n",
              "      <td>0.796021</td>\n",
              "      <td>0.018680</td>\n",
              "      <td>0.524086</td>\n",
              "      <td>0.085961</td>\n",
              "    </tr>\n",
              "    <tr>\n",
              "      <th>anger_75</th>\n",
              "      <td>-0.012405</td>\n",
              "      <td>1.000000</td>\n",
              "      <td>0.006750</td>\n",
              "      <td>0.008034</td>\n",
              "      <td>-0.494175</td>\n",
              "      <td>-0.016126</td>\n",
              "      <td>0.595347</td>\n",
              "      <td>0.010451</td>\n",
              "      <td>0.389311</td>\n",
              "      <td>-0.105358</td>\n",
              "    </tr>\n",
              "    <tr>\n",
              "      <th>fear_10</th>\n",
              "      <td>0.015945</td>\n",
              "      <td>0.006750</td>\n",
              "      <td>1.000000</td>\n",
              "      <td>0.008216</td>\n",
              "      <td>-0.019483</td>\n",
              "      <td>0.131025</td>\n",
              "      <td>0.016898</td>\n",
              "      <td>0.637437</td>\n",
              "      <td>0.491619</td>\n",
              "      <td>0.017480</td>\n",
              "    </tr>\n",
              "    <tr>\n",
              "      <th>fear_75</th>\n",
              "      <td>0.011184</td>\n",
              "      <td>0.008034</td>\n",
              "      <td>0.008216</td>\n",
              "      <td>1.000000</td>\n",
              "      <td>-0.005348</td>\n",
              "      <td>-0.622230</td>\n",
              "      <td>0.013850</td>\n",
              "      <td>0.775714</td>\n",
              "      <td>0.593962</td>\n",
              "      <td>0.061381</td>\n",
              "    </tr>\n",
              "    <tr>\n",
              "      <th>anger_diff</th>\n",
              "      <td>-0.435113</td>\n",
              "      <td>-0.494175</td>\n",
              "      <td>-0.019483</td>\n",
              "      <td>-0.005348</td>\n",
              "      <td>1.000000</td>\n",
              "      <td>0.003358</td>\n",
              "      <td>-0.648759</td>\n",
              "      <td>-0.016417</td>\n",
              "      <td>-0.428031</td>\n",
              "      <td>0.032111</td>\n",
              "    </tr>\n",
              "    <tr>\n",
              "      <th>fear_diff</th>\n",
              "      <td>-0.002191</td>\n",
              "      <td>-0.016126</td>\n",
              "      <td>0.131025</td>\n",
              "      <td>-0.622230</td>\n",
              "      <td>0.003358</td>\n",
              "      <td>1.000000</td>\n",
              "      <td>-0.011522</td>\n",
              "      <td>-0.396755</td>\n",
              "      <td>-0.306637</td>\n",
              "      <td>-0.002808</td>\n",
              "    </tr>\n",
              "    <tr>\n",
              "      <th>anger_total</th>\n",
              "      <td>0.796021</td>\n",
              "      <td>0.595347</td>\n",
              "      <td>0.016898</td>\n",
              "      <td>0.013850</td>\n",
              "      <td>-0.648759</td>\n",
              "      <td>-0.011522</td>\n",
              "      <td>1.000000</td>\n",
              "      <td>0.021336</td>\n",
              "      <td>0.656775</td>\n",
              "      <td>0.005298</td>\n",
              "    </tr>\n",
              "    <tr>\n",
              "      <th>fear_total</th>\n",
              "      <td>0.018680</td>\n",
              "      <td>0.010451</td>\n",
              "      <td>0.637437</td>\n",
              "      <td>0.775714</td>\n",
              "      <td>-0.016417</td>\n",
              "      <td>-0.396755</td>\n",
              "      <td>0.021336</td>\n",
              "      <td>1.000000</td>\n",
              "      <td>0.767928</td>\n",
              "      <td>0.058328</td>\n",
              "    </tr>\n",
              "    <tr>\n",
              "      <th>emotion_total</th>\n",
              "      <td>0.524086</td>\n",
              "      <td>0.389311</td>\n",
              "      <td>0.491619</td>\n",
              "      <td>0.593962</td>\n",
              "      <td>-0.428031</td>\n",
              "      <td>-0.306637</td>\n",
              "      <td>0.656775</td>\n",
              "      <td>0.767928</td>\n",
              "      <td>1.000000</td>\n",
              "      <td>0.047389</td>\n",
              "    </tr>\n",
              "    <tr>\n",
              "      <th>word_count</th>\n",
              "      <td>0.085961</td>\n",
              "      <td>-0.105358</td>\n",
              "      <td>0.017480</td>\n",
              "      <td>0.061381</td>\n",
              "      <td>0.032111</td>\n",
              "      <td>-0.002808</td>\n",
              "      <td>0.005298</td>\n",
              "      <td>0.058328</td>\n",
              "      <td>0.047389</td>\n",
              "      <td>1.000000</td>\n",
              "    </tr>\n",
              "  </tbody>\n",
              "</table>\n",
              "</div>\n",
              "      <button class=\"colab-df-convert\" onclick=\"convertToInteractive('df-19c07847-4cad-475c-92a4-6c3a2bb51226')\"\n",
              "              title=\"Convert this dataframe to an interactive table.\"\n",
              "              style=\"display:none;\">\n",
              "        \n",
              "  <svg xmlns=\"http://www.w3.org/2000/svg\" height=\"24px\"viewBox=\"0 0 24 24\"\n",
              "       width=\"24px\">\n",
              "    <path d=\"M0 0h24v24H0V0z\" fill=\"none\"/>\n",
              "    <path d=\"M18.56 5.44l.94 2.06.94-2.06 2.06-.94-2.06-.94-.94-2.06-.94 2.06-2.06.94zm-11 1L8.5 8.5l.94-2.06 2.06-.94-2.06-.94L8.5 2.5l-.94 2.06-2.06.94zm10 10l.94 2.06.94-2.06 2.06-.94-2.06-.94-.94-2.06-.94 2.06-2.06.94z\"/><path d=\"M17.41 7.96l-1.37-1.37c-.4-.4-.92-.59-1.43-.59-.52 0-1.04.2-1.43.59L10.3 9.45l-7.72 7.72c-.78.78-.78 2.05 0 2.83L4 21.41c.39.39.9.59 1.41.59.51 0 1.02-.2 1.41-.59l7.78-7.78 2.81-2.81c.8-.78.8-2.07 0-2.86zM5.41 20L4 18.59l7.72-7.72 1.47 1.35L5.41 20z\"/>\n",
              "  </svg>\n",
              "      </button>\n",
              "      \n",
              "  <style>\n",
              "    .colab-df-container {\n",
              "      display:flex;\n",
              "      flex-wrap:wrap;\n",
              "      gap: 12px;\n",
              "    }\n",
              "\n",
              "    .colab-df-convert {\n",
              "      background-color: #E8F0FE;\n",
              "      border: none;\n",
              "      border-radius: 50%;\n",
              "      cursor: pointer;\n",
              "      display: none;\n",
              "      fill: #1967D2;\n",
              "      height: 32px;\n",
              "      padding: 0 0 0 0;\n",
              "      width: 32px;\n",
              "    }\n",
              "\n",
              "    .colab-df-convert:hover {\n",
              "      background-color: #E2EBFA;\n",
              "      box-shadow: 0px 1px 2px rgba(60, 64, 67, 0.3), 0px 1px 3px 1px rgba(60, 64, 67, 0.15);\n",
              "      fill: #174EA6;\n",
              "    }\n",
              "\n",
              "    [theme=dark] .colab-df-convert {\n",
              "      background-color: #3B4455;\n",
              "      fill: #D2E3FC;\n",
              "    }\n",
              "\n",
              "    [theme=dark] .colab-df-convert:hover {\n",
              "      background-color: #434B5C;\n",
              "      box-shadow: 0px 1px 3px 1px rgba(0, 0, 0, 0.15);\n",
              "      filter: drop-shadow(0px 1px 2px rgba(0, 0, 0, 0.3));\n",
              "      fill: #FFFFFF;\n",
              "    }\n",
              "  </style>\n",
              "\n",
              "      <script>\n",
              "        const buttonEl =\n",
              "          document.querySelector('#df-19c07847-4cad-475c-92a4-6c3a2bb51226 button.colab-df-convert');\n",
              "        buttonEl.style.display =\n",
              "          google.colab.kernel.accessAllowed ? 'block' : 'none';\n",
              "\n",
              "        async function convertToInteractive(key) {\n",
              "          const element = document.querySelector('#df-19c07847-4cad-475c-92a4-6c3a2bb51226');\n",
              "          const dataTable =\n",
              "            await google.colab.kernel.invokeFunction('convertToInteractive',\n",
              "                                                     [key], {});\n",
              "          if (!dataTable) return;\n",
              "\n",
              "          const docLinkHtml = 'Like what you see? Visit the ' +\n",
              "            '<a target=\"_blank\" href=https://colab.research.google.com/notebooks/data_table.ipynb>data table notebook</a>'\n",
              "            + ' to learn more about interactive tables.';\n",
              "          element.innerHTML = '';\n",
              "          dataTable['output_type'] = 'display_data';\n",
              "          await google.colab.output.renderOutput(dataTable, element);\n",
              "          const docLink = document.createElement('div');\n",
              "          docLink.innerHTML = docLinkHtml;\n",
              "          element.appendChild(docLink);\n",
              "        }\n",
              "      </script>\n",
              "    </div>\n",
              "  </div>\n",
              "  "
            ]
          },
          "metadata": {},
          "execution_count": 100
        }
      ]
    },
    {
      "cell_type": "code",
      "source": [
        "pred_df.describe()"
      ],
      "metadata": {
        "id": "rzqzqSF8LUKH",
        "colab": {
          "base_uri": "https://localhost:8080/",
          "height": 300
        },
        "outputId": "1f5841de-e26e-4c76-95d9-00b6043c3fbf"
      },
      "execution_count": null,
      "outputs": [
        {
          "data": {
            "text/html": [
              "\n",
              "  <div id=\"df-b66b7eac-55ad-4549-b8dc-d8bf8a59475e\">\n",
              "    <div class=\"colab-df-container\">\n",
              "      <div>\n",
              "<style scoped>\n",
              "    .dataframe tbody tr th:only-of-type {\n",
              "        vertical-align: middle;\n",
              "    }\n",
              "\n",
              "    .dataframe tbody tr th {\n",
              "        vertical-align: top;\n",
              "    }\n",
              "\n",
              "    .dataframe thead th {\n",
              "        text-align: right;\n",
              "    }\n",
              "</style>\n",
              "<table border=\"1\" class=\"dataframe\">\n",
              "  <thead>\n",
              "    <tr style=\"text-align: right;\">\n",
              "      <th></th>\n",
              "      <th>anger_10</th>\n",
              "      <th>anger_75</th>\n",
              "      <th>fear_10</th>\n",
              "      <th>fear_75</th>\n",
              "    </tr>\n",
              "  </thead>\n",
              "  <tbody>\n",
              "    <tr>\n",
              "      <th>count</th>\n",
              "      <td>116687.000000</td>\n",
              "      <td>116687.000000</td>\n",
              "      <td>116687.000000</td>\n",
              "      <td>116687.000000</td>\n",
              "    </tr>\n",
              "    <tr>\n",
              "      <th>mean</th>\n",
              "      <td>3.633378</td>\n",
              "      <td>3.481322</td>\n",
              "      <td>3.358018</td>\n",
              "      <td>2.026541</td>\n",
              "    </tr>\n",
              "    <tr>\n",
              "      <th>std</th>\n",
              "      <td>1.511424</td>\n",
              "      <td>1.138586</td>\n",
              "      <td>1.397540</td>\n",
              "      <td>1.706280</td>\n",
              "    </tr>\n",
              "    <tr>\n",
              "      <th>min</th>\n",
              "      <td>0.000000</td>\n",
              "      <td>0.000000</td>\n",
              "      <td>0.000000</td>\n",
              "      <td>0.000000</td>\n",
              "    </tr>\n",
              "    <tr>\n",
              "      <th>25%</th>\n",
              "      <td>4.000000</td>\n",
              "      <td>4.000000</td>\n",
              "      <td>3.000000</td>\n",
              "      <td>0.000000</td>\n",
              "    </tr>\n",
              "    <tr>\n",
              "      <th>50%</th>\n",
              "      <td>4.000000</td>\n",
              "      <td>4.000000</td>\n",
              "      <td>4.000000</td>\n",
              "      <td>2.000000</td>\n",
              "    </tr>\n",
              "    <tr>\n",
              "      <th>75%</th>\n",
              "      <td>5.000000</td>\n",
              "      <td>4.000000</td>\n",
              "      <td>4.000000</td>\n",
              "      <td>4.000000</td>\n",
              "    </tr>\n",
              "    <tr>\n",
              "      <th>max</th>\n",
              "      <td>5.000000</td>\n",
              "      <td>5.000000</td>\n",
              "      <td>5.000000</td>\n",
              "      <td>5.000000</td>\n",
              "    </tr>\n",
              "  </tbody>\n",
              "</table>\n",
              "</div>\n",
              "      <button class=\"colab-df-convert\" onclick=\"convertToInteractive('df-b66b7eac-55ad-4549-b8dc-d8bf8a59475e')\"\n",
              "              title=\"Convert this dataframe to an interactive table.\"\n",
              "              style=\"display:none;\">\n",
              "        \n",
              "  <svg xmlns=\"http://www.w3.org/2000/svg\" height=\"24px\"viewBox=\"0 0 24 24\"\n",
              "       width=\"24px\">\n",
              "    <path d=\"M0 0h24v24H0V0z\" fill=\"none\"/>\n",
              "    <path d=\"M18.56 5.44l.94 2.06.94-2.06 2.06-.94-2.06-.94-.94-2.06-.94 2.06-2.06.94zm-11 1L8.5 8.5l.94-2.06 2.06-.94-2.06-.94L8.5 2.5l-.94 2.06-2.06.94zm10 10l.94 2.06.94-2.06 2.06-.94-2.06-.94-.94-2.06-.94 2.06-2.06.94z\"/><path d=\"M17.41 7.96l-1.37-1.37c-.4-.4-.92-.59-1.43-.59-.52 0-1.04.2-1.43.59L10.3 9.45l-7.72 7.72c-.78.78-.78 2.05 0 2.83L4 21.41c.39.39.9.59 1.41.59.51 0 1.02-.2 1.41-.59l7.78-7.78 2.81-2.81c.8-.78.8-2.07 0-2.86zM5.41 20L4 18.59l7.72-7.72 1.47 1.35L5.41 20z\"/>\n",
              "  </svg>\n",
              "      </button>\n",
              "      \n",
              "  <style>\n",
              "    .colab-df-container {\n",
              "      display:flex;\n",
              "      flex-wrap:wrap;\n",
              "      gap: 12px;\n",
              "    }\n",
              "\n",
              "    .colab-df-convert {\n",
              "      background-color: #E8F0FE;\n",
              "      border: none;\n",
              "      border-radius: 50%;\n",
              "      cursor: pointer;\n",
              "      display: none;\n",
              "      fill: #1967D2;\n",
              "      height: 32px;\n",
              "      padding: 0 0 0 0;\n",
              "      width: 32px;\n",
              "    }\n",
              "\n",
              "    .colab-df-convert:hover {\n",
              "      background-color: #E2EBFA;\n",
              "      box-shadow: 0px 1px 2px rgba(60, 64, 67, 0.3), 0px 1px 3px 1px rgba(60, 64, 67, 0.15);\n",
              "      fill: #174EA6;\n",
              "    }\n",
              "\n",
              "    [theme=dark] .colab-df-convert {\n",
              "      background-color: #3B4455;\n",
              "      fill: #D2E3FC;\n",
              "    }\n",
              "\n",
              "    [theme=dark] .colab-df-convert:hover {\n",
              "      background-color: #434B5C;\n",
              "      box-shadow: 0px 1px 3px 1px rgba(0, 0, 0, 0.15);\n",
              "      filter: drop-shadow(0px 1px 2px rgba(0, 0, 0, 0.3));\n",
              "      fill: #FFFFFF;\n",
              "    }\n",
              "  </style>\n",
              "\n",
              "      <script>\n",
              "        const buttonEl =\n",
              "          document.querySelector('#df-b66b7eac-55ad-4549-b8dc-d8bf8a59475e button.colab-df-convert');\n",
              "        buttonEl.style.display =\n",
              "          google.colab.kernel.accessAllowed ? 'block' : 'none';\n",
              "\n",
              "        async function convertToInteractive(key) {\n",
              "          const element = document.querySelector('#df-b66b7eac-55ad-4549-b8dc-d8bf8a59475e');\n",
              "          const dataTable =\n",
              "            await google.colab.kernel.invokeFunction('convertToInteractive',\n",
              "                                                     [key], {});\n",
              "          if (!dataTable) return;\n",
              "\n",
              "          const docLinkHtml = 'Like what you see? Visit the ' +\n",
              "            '<a target=\"_blank\" href=https://colab.research.google.com/notebooks/data_table.ipynb>data table notebook</a>'\n",
              "            + ' to learn more about interactive tables.';\n",
              "          element.innerHTML = '';\n",
              "          dataTable['output_type'] = 'display_data';\n",
              "          await google.colab.output.renderOutput(dataTable, element);\n",
              "          const docLink = document.createElement('div');\n",
              "          docLink.innerHTML = docLinkHtml;\n",
              "          element.appendChild(docLink);\n",
              "        }\n",
              "      </script>\n",
              "    </div>\n",
              "  </div>\n",
              "  "
            ],
            "text/plain": [
              "            anger_10       anger_75        fear_10        fear_75\n",
              "count  116687.000000  116687.000000  116687.000000  116687.000000\n",
              "mean        3.633378       3.481322       3.358018       2.026541\n",
              "std         1.511424       1.138586       1.397540       1.706280\n",
              "min         0.000000       0.000000       0.000000       0.000000\n",
              "25%         4.000000       4.000000       3.000000       0.000000\n",
              "50%         4.000000       4.000000       4.000000       2.000000\n",
              "75%         5.000000       4.000000       4.000000       4.000000\n",
              "max         5.000000       5.000000       5.000000       5.000000"
            ]
          },
          "execution_count": 79,
          "metadata": {},
          "output_type": "execute_result"
        }
      ]
    },
    {
      "cell_type": "code",
      "source": [
        "pred_df.info()"
      ],
      "metadata": {
        "id": "DGHrjWl6LT5Z",
        "colab": {
          "base_uri": "https://localhost:8080/"
        },
        "outputId": "1d7aeaa3-7400-49ff-b8e5-a06b001f879a"
      },
      "execution_count": null,
      "outputs": [
        {
          "metadata": {
            "tags": null
          },
          "name": "stdout",
          "output_type": "stream",
          "text": [
            "<class 'pandas.core.frame.DataFrame'>\n",
            "Int64Index: 116687 entries, 0 to 223953\n",
            "Data columns (total 5 columns):\n",
            " #   Column    Non-Null Count   Dtype \n",
            "---  ------    --------------   ----- \n",
            " 0   text      116687 non-null  object\n",
            " 1   anger_10  116687 non-null  int64 \n",
            " 2   anger_75  116687 non-null  int64 \n",
            " 3   fear_10   116687 non-null  int64 \n",
            " 4   fear_75   116687 non-null  int64 \n",
            "dtypes: int64(4), object(1)\n",
            "memory usage: 5.3+ MB\n"
          ]
        }
      ]
    },
    {
      "cell_type": "code",
      "source": [
        "#The code computes value counts in a number of columnss and creates a dataframe out of the results... \n",
        "\n",
        "non_text_cols = ['anger_10', 'anger_75', 'fear_10', 'fear_75']\n",
        "value_counts = {}\n",
        "\n",
        "for col in non_text_cols:\n",
        "    value_counts[col] = pred_df[col].value_counts()\n",
        "\n",
        "df_value_counts = pd.DataFrame(value_counts)"
      ],
      "metadata": {
        "id": "ceAIFyftR-Ss"
      },
      "execution_count": null,
      "outputs": []
    },
    {
      "cell_type": "code",
      "source": [
        "df_value_counts"
      ],
      "metadata": {
        "id": "6bCkOLr9SG2n",
        "colab": {
          "base_uri": "https://localhost:8080/",
          "height": 238
        },
        "outputId": "6d0673a5-f4ca-4c03-f7b0-daadfcdf08c9"
      },
      "execution_count": null,
      "outputs": [
        {
          "data": {
            "text/html": [
              "\n",
              "  <div id=\"df-3a126278-07b3-4996-993e-23058118bd39\">\n",
              "    <div class=\"colab-df-container\">\n",
              "      <div>\n",
              "<style scoped>\n",
              "    .dataframe tbody tr th:only-of-type {\n",
              "        vertical-align: middle;\n",
              "    }\n",
              "\n",
              "    .dataframe tbody tr th {\n",
              "        vertical-align: top;\n",
              "    }\n",
              "\n",
              "    .dataframe thead th {\n",
              "        text-align: right;\n",
              "    }\n",
              "</style>\n",
              "<table border=\"1\" class=\"dataframe\">\n",
              "  <thead>\n",
              "    <tr style=\"text-align: right;\">\n",
              "      <th></th>\n",
              "      <th>anger_10</th>\n",
              "      <th>anger_75</th>\n",
              "      <th>fear_10</th>\n",
              "      <th>fear_75</th>\n",
              "    </tr>\n",
              "  </thead>\n",
              "  <tbody>\n",
              "    <tr>\n",
              "      <th>0</th>\n",
              "      <td>10365</td>\n",
              "      <td>5078</td>\n",
              "      <td>7190</td>\n",
              "      <td>34644</td>\n",
              "    </tr>\n",
              "    <tr>\n",
              "      <th>1</th>\n",
              "      <td>3668</td>\n",
              "      <td>4601</td>\n",
              "      <td>14396</td>\n",
              "      <td>22368</td>\n",
              "    </tr>\n",
              "    <tr>\n",
              "      <th>2</th>\n",
              "      <td>12108</td>\n",
              "      <td>14373</td>\n",
              "      <td>4297</td>\n",
              "      <td>2395</td>\n",
              "    </tr>\n",
              "    <tr>\n",
              "      <th>3</th>\n",
              "      <td>529</td>\n",
              "      <td>87</td>\n",
              "      <td>4285</td>\n",
              "      <td>24386</td>\n",
              "    </tr>\n",
              "    <tr>\n",
              "      <th>4</th>\n",
              "      <td>55588</td>\n",
              "      <td>90123</td>\n",
              "      <td>76603</td>\n",
              "      <td>28315</td>\n",
              "    </tr>\n",
              "    <tr>\n",
              "      <th>5</th>\n",
              "      <td>34429</td>\n",
              "      <td>2425</td>\n",
              "      <td>9916</td>\n",
              "      <td>4579</td>\n",
              "    </tr>\n",
              "  </tbody>\n",
              "</table>\n",
              "</div>\n",
              "      <button class=\"colab-df-convert\" onclick=\"convertToInteractive('df-3a126278-07b3-4996-993e-23058118bd39')\"\n",
              "              title=\"Convert this dataframe to an interactive table.\"\n",
              "              style=\"display:none;\">\n",
              "        \n",
              "  <svg xmlns=\"http://www.w3.org/2000/svg\" height=\"24px\"viewBox=\"0 0 24 24\"\n",
              "       width=\"24px\">\n",
              "    <path d=\"M0 0h24v24H0V0z\" fill=\"none\"/>\n",
              "    <path d=\"M18.56 5.44l.94 2.06.94-2.06 2.06-.94-2.06-.94-.94-2.06-.94 2.06-2.06.94zm-11 1L8.5 8.5l.94-2.06 2.06-.94-2.06-.94L8.5 2.5l-.94 2.06-2.06.94zm10 10l.94 2.06.94-2.06 2.06-.94-2.06-.94-.94-2.06-.94 2.06-2.06.94z\"/><path d=\"M17.41 7.96l-1.37-1.37c-.4-.4-.92-.59-1.43-.59-.52 0-1.04.2-1.43.59L10.3 9.45l-7.72 7.72c-.78.78-.78 2.05 0 2.83L4 21.41c.39.39.9.59 1.41.59.51 0 1.02-.2 1.41-.59l7.78-7.78 2.81-2.81c.8-.78.8-2.07 0-2.86zM5.41 20L4 18.59l7.72-7.72 1.47 1.35L5.41 20z\"/>\n",
              "  </svg>\n",
              "      </button>\n",
              "      \n",
              "  <style>\n",
              "    .colab-df-container {\n",
              "      display:flex;\n",
              "      flex-wrap:wrap;\n",
              "      gap: 12px;\n",
              "    }\n",
              "\n",
              "    .colab-df-convert {\n",
              "      background-color: #E8F0FE;\n",
              "      border: none;\n",
              "      border-radius: 50%;\n",
              "      cursor: pointer;\n",
              "      display: none;\n",
              "      fill: #1967D2;\n",
              "      height: 32px;\n",
              "      padding: 0 0 0 0;\n",
              "      width: 32px;\n",
              "    }\n",
              "\n",
              "    .colab-df-convert:hover {\n",
              "      background-color: #E2EBFA;\n",
              "      box-shadow: 0px 1px 2px rgba(60, 64, 67, 0.3), 0px 1px 3px 1px rgba(60, 64, 67, 0.15);\n",
              "      fill: #174EA6;\n",
              "    }\n",
              "\n",
              "    [theme=dark] .colab-df-convert {\n",
              "      background-color: #3B4455;\n",
              "      fill: #D2E3FC;\n",
              "    }\n",
              "\n",
              "    [theme=dark] .colab-df-convert:hover {\n",
              "      background-color: #434B5C;\n",
              "      box-shadow: 0px 1px 3px 1px rgba(0, 0, 0, 0.15);\n",
              "      filter: drop-shadow(0px 1px 2px rgba(0, 0, 0, 0.3));\n",
              "      fill: #FFFFFF;\n",
              "    }\n",
              "  </style>\n",
              "\n",
              "      <script>\n",
              "        const buttonEl =\n",
              "          document.querySelector('#df-3a126278-07b3-4996-993e-23058118bd39 button.colab-df-convert');\n",
              "        buttonEl.style.display =\n",
              "          google.colab.kernel.accessAllowed ? 'block' : 'none';\n",
              "\n",
              "        async function convertToInteractive(key) {\n",
              "          const element = document.querySelector('#df-3a126278-07b3-4996-993e-23058118bd39');\n",
              "          const dataTable =\n",
              "            await google.colab.kernel.invokeFunction('convertToInteractive',\n",
              "                                                     [key], {});\n",
              "          if (!dataTable) return;\n",
              "\n",
              "          const docLinkHtml = 'Like what you see? Visit the ' +\n",
              "            '<a target=\"_blank\" href=https://colab.research.google.com/notebooks/data_table.ipynb>data table notebook</a>'\n",
              "            + ' to learn more about interactive tables.';\n",
              "          element.innerHTML = '';\n",
              "          dataTable['output_type'] = 'display_data';\n",
              "          await google.colab.output.renderOutput(dataTable, element);\n",
              "          const docLink = document.createElement('div');\n",
              "          docLink.innerHTML = docLinkHtml;\n",
              "          element.appendChild(docLink);\n",
              "        }\n",
              "      </script>\n",
              "    </div>\n",
              "  </div>\n",
              "  "
            ],
            "text/plain": [
              "   anger_10  anger_75  fear_10  fear_75\n",
              "0     10365      5078     7190    34644\n",
              "1      3668      4601    14396    22368\n",
              "2     12108     14373     4297     2395\n",
              "3       529        87     4285    24386\n",
              "4     55588     90123    76603    28315\n",
              "5     34429      2425     9916     4579"
            ]
          },
          "execution_count": 82,
          "metadata": {},
          "output_type": "execute_result"
        }
      ]
    },
    {
      "cell_type": "code",
      "source": [
        "# Calculate absolute differences\n",
        "pred_df['anger_diff'] = abs(pred_df['anger_10'] - pred_df['anger_75'])\n",
        "pred_df['fear_diff'] = abs(pred_df['fear_10'] - pred_df['fear_75'])\n",
        "\n",
        "# Plot histograms\n",
        "import matplotlib.pyplot as plt\n",
        "\n",
        "fig, axes = plt.subplots(1, 2, figsize=(10,5))\n",
        "\n",
        "axes[0].hist(pred_df['anger_diff'], bins=20)\n",
        "axes[0].set_xlabel('Absolute Difference')\n",
        "axes[0].set_ylabel('Count')\n",
        "axes[0].set_title('Anger Predictor Difference')\n",
        "\n",
        "axes[1].hist(pred_df['fear_diff'], bins=20)\n",
        "axes[1].set_xlabel('Absolute Difference')\n",
        "axes[1].set_ylabel('Count')\n",
        "axes[1].set_title('Fear Predictor Difference')\n",
        "\n",
        "plt.show()\n"
      ],
      "metadata": {
        "id": "rNS1j7dj7ZuI",
        "colab": {
          "base_uri": "https://localhost:8080/",
          "height": 350
        },
        "outputId": "ebdf7180-bc30-4264-c0ea-6d5e3dc17dca"
      },
      "execution_count": null,
      "outputs": [
        {
          "output_type": "display_data",
          "data": {
            "text/plain": [
              "<Figure size 720x360 with 2 Axes>"
            ],
            "image/png": "[encoded data removed]"
          },
          "metadata": {
            "needs_background": "light"
          }
        }
      ]
    },
    {
      "cell_type": "code",
      "source": [
        "#Value counts for the differences....\n",
        "\n",
        "print(pred_df['anger_diff'].value_counts())\n",
        "print(pred_df['fear_diff'].value_counts())\n"
      ],
      "metadata": {
        "id": "XWWICR8t9_CZ",
        "colab": {
          "base_uri": "https://localhost:8080/"
        },
        "outputId": "9d453271-24f3-41e2-9f4c-ef4a8c94e216"
      },
      "execution_count": null,
      "outputs": [
        {
          "output_type": "stream",
          "name": "stdout",
          "text": [
            "0    45659\n",
            "1    29632\n",
            "2    18046\n",
            "4    12067\n",
            "3     9466\n",
            "5     1817\n",
            "Name: anger_diff, dtype: int64\n",
            "1    29968\n",
            "4    26580\n",
            "0    25420\n",
            "3    21361\n",
            "2    10073\n",
            "5     3285\n",
            "Name: fear_diff, dtype: int64\n"
          ]
        }
      ]
    },
    {
      "cell_type": "markdown",
      "source": [
        "#Defining labels for the emotions "
      ],
      "metadata": {
        "id": "wEIkG5Xj7XUb"
      }
    },
    {
      "cell_type": "code",
      "source": [
        "# Define emotion labels\n",
        "anger_labels = ['calm', 'annoyed', 'agitated', 'frustrated', 'angry', 'rage']\n",
        "fear_labels = ['calm', 'concern', 'worry', 'anxiety', 'fear', 'dread']\n",
        "\n",
        "# Define mapping from integer label to emotion label\n",
        "anger_label_map = {i: label for i, label in enumerate(anger_labels)}\n",
        "fear_label_map = {i: label for i, label in enumerate(fear_labels)}\n",
        "\n",
        "# Add columns for predicted emotion label\n",
        "pred_df['anger_10_label'] = pred_df['anger_10'].map(anger_label_map)\n",
        "pred_df['anger_75_label'] = pred_df['anger_75'].map(anger_label_map)\n",
        "pred_df['fear_10_label'] = pred_df['fear_10'].map(fear_label_map)\n",
        "pred_df['fear_75_label'] = pred_df['fear_75'].map(fear_label_map)\n"
      ],
      "metadata": {
        "id": "P-5LO1Bpz_U8"
      },
      "execution_count": null,
      "outputs": []
    },
    {
      "cell_type": "markdown",
      "source": [
        "#Creating the sum variables"
      ],
      "metadata": {
        "id": "0Pg45FXCIVjP"
      }
    },
    {
      "cell_type": "code",
      "source": [
        "pred_df['anger_total'] = pred_df['anger_10'] + pred_df['anger_75']\n",
        "pred_df['fear_total'] = pred_df['fear_10'] + pred_df['fear_75']\n",
        "pred_df['emotion_total'] = pred_df['anger_total'] + pred_df['fear_total']"
      ],
      "metadata": {
        "id": "VBTMOH-nIZj5"
      },
      "execution_count": null,
      "outputs": []
    },
    {
      "cell_type": "code",
      "source": [
        "pred_df['anger_total'].value_counts().sort_index()"
      ],
      "metadata": {
        "id": "GW8_BqNWJO2K",
        "colab": {
          "base_uri": "https://localhost:8080/"
        },
        "outputId": "cde142ab-c7ad-44bd-e87a-15564a252e5d"
      },
      "execution_count": null,
      "outputs": [
        {
          "output_type": "execute_result",
          "data": {
            "text/plain": [
              "0       402\n",
              "1       650\n",
              "2      1712\n",
              "3       993\n",
              "4     12029\n",
              "5      6752\n",
              "6     17911\n",
              "7      5030\n",
              "8     43001\n",
              "9     27490\n",
              "10      717\n",
              "Name: anger_total, dtype: int64"
            ]
          },
          "metadata": {},
          "execution_count": 87
        }
      ]
    },
    {
      "cell_type": "code",
      "source": [
        "#The code computes value counts in a number of columnss and creates a dataframe out of the results... \n",
        "\n",
        "non_text_cols = ['anger_10', 'anger_75', 'fear_10', 'fear_75']\n",
        "value_counts = {}\n",
        "\n",
        "for col in non_text_cols:\n",
        "    value_counts[col] = pred_df[col].value_counts()\n",
        "\n",
        "df_value_counts = pd.DataFrame(value_counts)"
      ],
      "metadata": {
        "id": "zjEjF0dTXm4M"
      },
      "execution_count": null,
      "outputs": []
    },
    {
      "cell_type": "code",
      "source": [
        "#Checking the dataset...\n",
        "\n",
        "df_value_counts"
      ],
      "metadata": {
        "id": "SyiTZhh6Xo1v",
        "colab": {
          "base_uri": "https://localhost:8080/",
          "height": 238
        },
        "outputId": "1374ad5b-534a-4a2c-e85c-1e5d4efff0aa"
      },
      "execution_count": null,
      "outputs": [
        {
          "data": {
            "text/html": [
              "\n",
              "  <div id=\"df-8d6ae0b8-6dd9-4dec-afdb-d21c2c657621\">\n",
              "    <div class=\"colab-df-container\">\n",
              "      <div>\n",
              "<style scoped>\n",
              "    .dataframe tbody tr th:only-of-type {\n",
              "        vertical-align: middle;\n",
              "    }\n",
              "\n",
              "    .dataframe tbody tr th {\n",
              "        vertical-align: top;\n",
              "    }\n",
              "\n",
              "    .dataframe thead th {\n",
              "        text-align: right;\n",
              "    }\n",
              "</style>\n",
              "<table border=\"1\" class=\"dataframe\">\n",
              "  <thead>\n",
              "    <tr style=\"text-align: right;\">\n",
              "      <th></th>\n",
              "      <th>anger_10</th>\n",
              "      <th>anger_75</th>\n",
              "      <th>fear_10</th>\n",
              "      <th>fear_75</th>\n",
              "    </tr>\n",
              "  </thead>\n",
              "  <tbody>\n",
              "    <tr>\n",
              "      <th>0</th>\n",
              "      <td>10365</td>\n",
              "      <td>5078</td>\n",
              "      <td>7190</td>\n",
              "      <td>34644</td>\n",
              "    </tr>\n",
              "    <tr>\n",
              "      <th>1</th>\n",
              "      <td>3668</td>\n",
              "      <td>4601</td>\n",
              "      <td>14396</td>\n",
              "      <td>22368</td>\n",
              "    </tr>\n",
              "    <tr>\n",
              "      <th>2</th>\n",
              "      <td>12108</td>\n",
              "      <td>14373</td>\n",
              "      <td>4297</td>\n",
              "      <td>2395</td>\n",
              "    </tr>\n",
              "    <tr>\n",
              "      <th>3</th>\n",
              "      <td>529</td>\n",
              "      <td>87</td>\n",
              "      <td>4285</td>\n",
              "      <td>24386</td>\n",
              "    </tr>\n",
              "    <tr>\n",
              "      <th>4</th>\n",
              "      <td>55588</td>\n",
              "      <td>90123</td>\n",
              "      <td>76603</td>\n",
              "      <td>28315</td>\n",
              "    </tr>\n",
              "    <tr>\n",
              "      <th>5</th>\n",
              "      <td>34429</td>\n",
              "      <td>2425</td>\n",
              "      <td>9916</td>\n",
              "      <td>4579</td>\n",
              "    </tr>\n",
              "  </tbody>\n",
              "</table>\n",
              "</div>\n",
              "      <button class=\"colab-df-convert\" onclick=\"convertToInteractive('df-8d6ae0b8-6dd9-4dec-afdb-d21c2c657621')\"\n",
              "              title=\"Convert this dataframe to an interactive table.\"\n",
              "              style=\"display:none;\">\n",
              "        \n",
              "  <svg xmlns=\"http://www.w3.org/2000/svg\" height=\"24px\"viewBox=\"0 0 24 24\"\n",
              "       width=\"24px\">\n",
              "    <path d=\"M0 0h24v24H0V0z\" fill=\"none\"/>\n",
              "    <path d=\"M18.56 5.44l.94 2.06.94-2.06 2.06-.94-2.06-.94-.94-2.06-.94 2.06-2.06.94zm-11 1L8.5 8.5l.94-2.06 2.06-.94-2.06-.94L8.5 2.5l-.94 2.06-2.06.94zm10 10l.94 2.06.94-2.06 2.06-.94-2.06-.94-.94-2.06-.94 2.06-2.06.94z\"/><path d=\"M17.41 7.96l-1.37-1.37c-.4-.4-.92-.59-1.43-.59-.52 0-1.04.2-1.43.59L10.3 9.45l-7.72 7.72c-.78.78-.78 2.05 0 2.83L4 21.41c.39.39.9.59 1.41.59.51 0 1.02-.2 1.41-.59l7.78-7.78 2.81-2.81c.8-.78.8-2.07 0-2.86zM5.41 20L4 18.59l7.72-7.72 1.47 1.35L5.41 20z\"/>\n",
              "  </svg>\n",
              "      </button>\n",
              "      \n",
              "  <style>\n",
              "    .colab-df-container {\n",
              "      display:flex;\n",
              "      flex-wrap:wrap;\n",
              "      gap: 12px;\n",
              "    }\n",
              "\n",
              "    .colab-df-convert {\n",
              "      background-color: #E8F0FE;\n",
              "      border: none;\n",
              "      border-radius: 50%;\n",
              "      cursor: pointer;\n",
              "      display: none;\n",
              "      fill: #1967D2;\n",
              "      height: 32px;\n",
              "      padding: 0 0 0 0;\n",
              "      width: 32px;\n",
              "    }\n",
              "\n",
              "    .colab-df-convert:hover {\n",
              "      background-color: #E2EBFA;\n",
              "      box-shadow: 0px 1px 2px rgba(60, 64, 67, 0.3), 0px 1px 3px 1px rgba(60, 64, 67, 0.15);\n",
              "      fill: #174EA6;\n",
              "    }\n",
              "\n",
              "    [theme=dark] .colab-df-convert {\n",
              "      background-color: #3B4455;\n",
              "      fill: #D2E3FC;\n",
              "    }\n",
              "\n",
              "    [theme=dark] .colab-df-convert:hover {\n",
              "      background-color: #434B5C;\n",
              "      box-shadow: 0px 1px 3px 1px rgba(0, 0, 0, 0.15);\n",
              "      filter: drop-shadow(0px 1px 2px rgba(0, 0, 0, 0.3));\n",
              "      fill: #FFFFFF;\n",
              "    }\n",
              "  </style>\n",
              "\n",
              "      <script>\n",
              "        const buttonEl =\n",
              "          document.querySelector('#df-8d6ae0b8-6dd9-4dec-afdb-d21c2c657621 button.colab-df-convert');\n",
              "        buttonEl.style.display =\n",
              "          google.colab.kernel.accessAllowed ? 'block' : 'none';\n",
              "\n",
              "        async function convertToInteractive(key) {\n",
              "          const element = document.querySelector('#df-8d6ae0b8-6dd9-4dec-afdb-d21c2c657621');\n",
              "          const dataTable =\n",
              "            await google.colab.kernel.invokeFunction('convertToInteractive',\n",
              "                                                     [key], {});\n",
              "          if (!dataTable) return;\n",
              "\n",
              "          const docLinkHtml = 'Like what you see? Visit the ' +\n",
              "            '<a target=\"_blank\" href=https://colab.research.google.com/notebooks/data_table.ipynb>data table notebook</a>'\n",
              "            + ' to learn more about interactive tables.';\n",
              "          element.innerHTML = '';\n",
              "          dataTable['output_type'] = 'display_data';\n",
              "          await google.colab.output.renderOutput(dataTable, element);\n",
              "          const docLink = document.createElement('div');\n",
              "          docLink.innerHTML = docLinkHtml;\n",
              "          element.appendChild(docLink);\n",
              "        }\n",
              "      </script>\n",
              "    </div>\n",
              "  </div>\n",
              "  "
            ],
            "text/plain": [
              "   anger_10  anger_75  fear_10  fear_75\n",
              "0     10365      5078     7190    34644\n",
              "1      3668      4601    14396    22368\n",
              "2     12108     14373     4297     2395\n",
              "3       529        87     4285    24386\n",
              "4     55588     90123    76603    28315\n",
              "5     34429      2425     9916     4579"
            ]
          },
          "execution_count": 89,
          "metadata": {},
          "output_type": "execute_result"
        }
      ]
    },
    {
      "cell_type": "code",
      "source": [
        "#Looking at the correlation matrix...\n",
        "\n",
        "pred_df.corr()"
      ],
      "metadata": {
        "id": "taPxFaKqX1oO",
        "colab": {
          "base_uri": "https://localhost:8080/",
          "height": 332
        },
        "outputId": "3b5dabd0-22a9-4599-e2bd-d02a58db0c12"
      },
      "execution_count": null,
      "outputs": [
        {
          "output_type": "execute_result",
          "data": {
            "text/plain": [
              "               anger_10  anger_75   fear_10   fear_75  anger_diff  fear_diff  \\\n",
              "anger_10       1.000000 -0.012405  0.015945  0.011184   -0.435113  -0.002191   \n",
              "anger_75      -0.012405  1.000000  0.006750  0.008034   -0.494175  -0.016126   \n",
              "fear_10        0.015945  0.006750  1.000000  0.008216   -0.019483   0.131025   \n",
              "fear_75        0.011184  0.008034  0.008216  1.000000   -0.005348  -0.622230   \n",
              "anger_diff    -0.435113 -0.494175 -0.019483 -0.005348    1.000000   0.003358   \n",
              "fear_diff     -0.002191 -0.016126  0.131025 -0.622230    0.003358   1.000000   \n",
              "anger_total    0.796021  0.595347  0.016898  0.013850   -0.648759  -0.011522   \n",
              "fear_total     0.018680  0.010451  0.637437  0.775714   -0.016417  -0.396755   \n",
              "emotion_total  0.524086  0.389311  0.491619  0.593962   -0.428031  -0.306637   \n",
              "\n",
              "               anger_total  fear_total  emotion_total  \n",
              "anger_10          0.796021    0.018680       0.524086  \n",
              "anger_75          0.595347    0.010451       0.389311  \n",
              "fear_10           0.016898    0.637437       0.491619  \n",
              "fear_75           0.013850    0.775714       0.593962  \n",
              "anger_diff       -0.648759   -0.016417      -0.428031  \n",
              "fear_diff        -0.011522   -0.396755      -0.306637  \n",
              "anger_total       1.000000    0.021336       0.656775  \n",
              "fear_total        0.021336    1.000000       0.767928  \n",
              "emotion_total     0.656775    0.767928       1.000000  "
            ],
            "text/html": [
              "\n",
              "  <div id=\"df-fdc07739-2f0e-4489-be2e-3a53aa29461b\">\n",
              "    <div class=\"colab-df-container\">\n",
              "      <div>\n",
              "<style scoped>\n",
              "    .dataframe tbody tr th:only-of-type {\n",
              "        vertical-align: middle;\n",
              "    }\n",
              "\n",
              "    .dataframe tbody tr th {\n",
              "        vertical-align: top;\n",
              "    }\n",
              "\n",
              "    .dataframe thead th {\n",
              "        text-align: right;\n",
              "    }\n",
              "</style>\n",
              "<table border=\"1\" class=\"dataframe\">\n",
              "  <thead>\n",
              "    <tr style=\"text-align: right;\">\n",
              "      <th></th>\n",
              "      <th>anger_10</th>\n",
              "      <th>anger_75</th>\n",
              "      <th>fear_10</th>\n",
              "      <th>fear_75</th>\n",
              "      <th>anger_diff</th>\n",
              "      <th>fear_diff</th>\n",
              "      <th>anger_total</th>\n",
              "      <th>fear_total</th>\n",
              "      <th>emotion_total</th>\n",
              "    </tr>\n",
              "  </thead>\n",
              "  <tbody>\n",
              "    <tr>\n",
              "      <th>anger_10</th>\n",
              "      <td>1.000000</td>\n",
              "      <td>-0.012405</td>\n",
              "      <td>0.015945</td>\n",
              "      <td>0.011184</td>\n",
              "      <td>-0.435113</td>\n",
              "      <td>-0.002191</td>\n",
              "      <td>0.796021</td>\n",
              "      <td>0.018680</td>\n",
              "      <td>0.524086</td>\n",
              "    </tr>\n",
              "    <tr>\n",
              "      <th>anger_75</th>\n",
              "      <td>-0.012405</td>\n",
              "      <td>1.000000</td>\n",
              "      <td>0.006750</td>\n",
              "      <td>0.008034</td>\n",
              "      <td>-0.494175</td>\n",
              "      <td>-0.016126</td>\n",
              "      <td>0.595347</td>\n",
              "      <td>0.010451</td>\n",
              "      <td>0.389311</td>\n",
              "    </tr>\n",
              "    <tr>\n",
              "      <th>fear_10</th>\n",
              "      <td>0.015945</td>\n",
              "      <td>0.006750</td>\n",
              "      <td>1.000000</td>\n",
              "      <td>0.008216</td>\n",
              "      <td>-0.019483</td>\n",
              "      <td>0.131025</td>\n",
              "      <td>0.016898</td>\n",
              "      <td>0.637437</td>\n",
              "      <td>0.491619</td>\n",
              "    </tr>\n",
              "    <tr>\n",
              "      <th>fear_75</th>\n",
              "      <td>0.011184</td>\n",
              "      <td>0.008034</td>\n",
              "      <td>0.008216</td>\n",
              "      <td>1.000000</td>\n",
              "      <td>-0.005348</td>\n",
              "      <td>-0.622230</td>\n",
              "      <td>0.013850</td>\n",
              "      <td>0.775714</td>\n",
              "      <td>0.593962</td>\n",
              "    </tr>\n",
              "    <tr>\n",
              "      <th>anger_diff</th>\n",
              "      <td>-0.435113</td>\n",
              "      <td>-0.494175</td>\n",
              "      <td>-0.019483</td>\n",
              "      <td>-0.005348</td>\n",
              "      <td>1.000000</td>\n",
              "      <td>0.003358</td>\n",
              "      <td>-0.648759</td>\n",
              "      <td>-0.016417</td>\n",
              "      <td>-0.428031</td>\n",
              "    </tr>\n",
              "    <tr>\n",
              "      <th>fear_diff</th>\n",
              "      <td>-0.002191</td>\n",
              "      <td>-0.016126</td>\n",
              "      <td>0.131025</td>\n",
              "      <td>-0.622230</td>\n",
              "      <td>0.003358</td>\n",
              "      <td>1.000000</td>\n",
              "      <td>-0.011522</td>\n",
              "      <td>-0.396755</td>\n",
              "      <td>-0.306637</td>\n",
              "    </tr>\n",
              "    <tr>\n",
              "      <th>anger_total</th>\n",
              "      <td>0.796021</td>\n",
              "      <td>0.595347</td>\n",
              "      <td>0.016898</td>\n",
              "      <td>0.013850</td>\n",
              "      <td>-0.648759</td>\n",
              "      <td>-0.011522</td>\n",
              "      <td>1.000000</td>\n",
              "      <td>0.021336</td>\n",
              "      <td>0.656775</td>\n",
              "    </tr>\n",
              "    <tr>\n",
              "      <th>fear_total</th>\n",
              "      <td>0.018680</td>\n",
              "      <td>0.010451</td>\n",
              "      <td>0.637437</td>\n",
              "      <td>0.775714</td>\n",
              "      <td>-0.016417</td>\n",
              "      <td>-0.396755</td>\n",
              "      <td>0.021336</td>\n",
              "      <td>1.000000</td>\n",
              "      <td>0.767928</td>\n",
              "    </tr>\n",
              "    <tr>\n",
              "      <th>emotion_total</th>\n",
              "      <td>0.524086</td>\n",
              "      <td>0.389311</td>\n",
              "      <td>0.491619</td>\n",
              "      <td>0.593962</td>\n",
              "      <td>-0.428031</td>\n",
              "      <td>-0.306637</td>\n",
              "      <td>0.656775</td>\n",
              "      <td>0.767928</td>\n",
              "      <td>1.000000</td>\n",
              "    </tr>\n",
              "  </tbody>\n",
              "</table>\n",
              "</div>\n",
              "      <button class=\"colab-df-convert\" onclick=\"convertToInteractive('df-fdc07739-2f0e-4489-be2e-3a53aa29461b')\"\n",
              "              title=\"Convert this dataframe to an interactive table.\"\n",
              "              style=\"display:none;\">\n",
              "        \n",
              "  <svg xmlns=\"http://www.w3.org/2000/svg\" height=\"24px\"viewBox=\"0 0 24 24\"\n",
              "       width=\"24px\">\n",
              "    <path d=\"M0 0h24v24H0V0z\" fill=\"none\"/>\n",
              "    <path d=\"M18.56 5.44l.94 2.06.94-2.06 2.06-.94-2.06-.94-.94-2.06-.94 2.06-2.06.94zm-11 1L8.5 8.5l.94-2.06 2.06-.94-2.06-.94L8.5 2.5l-.94 2.06-2.06.94zm10 10l.94 2.06.94-2.06 2.06-.94-2.06-.94-.94-2.06-.94 2.06-2.06.94z\"/><path d=\"M17.41 7.96l-1.37-1.37c-.4-.4-.92-.59-1.43-.59-.52 0-1.04.2-1.43.59L10.3 9.45l-7.72 7.72c-.78.78-.78 2.05 0 2.83L4 21.41c.39.39.9.59 1.41.59.51 0 1.02-.2 1.41-.59l7.78-7.78 2.81-2.81c.8-.78.8-2.07 0-2.86zM5.41 20L4 18.59l7.72-7.72 1.47 1.35L5.41 20z\"/>\n",
              "  </svg>\n",
              "      </button>\n",
              "      \n",
              "  <style>\n",
              "    .colab-df-container {\n",
              "      display:flex;\n",
              "      flex-wrap:wrap;\n",
              "      gap: 12px;\n",
              "    }\n",
              "\n",
              "    .colab-df-convert {\n",
              "      background-color: #E8F0FE;\n",
              "      border: none;\n",
              "      border-radius: 50%;\n",
              "      cursor: pointer;\n",
              "      display: none;\n",
              "      fill: #1967D2;\n",
              "      height: 32px;\n",
              "      padding: 0 0 0 0;\n",
              "      width: 32px;\n",
              "    }\n",
              "\n",
              "    .colab-df-convert:hover {\n",
              "      background-color: #E2EBFA;\n",
              "      box-shadow: 0px 1px 2px rgba(60, 64, 67, 0.3), 0px 1px 3px 1px rgba(60, 64, 67, 0.15);\n",
              "      fill: #174EA6;\n",
              "    }\n",
              "\n",
              "    [theme=dark] .colab-df-convert {\n",
              "      background-color: #3B4455;\n",
              "      fill: #D2E3FC;\n",
              "    }\n",
              "\n",
              "    [theme=dark] .colab-df-convert:hover {\n",
              "      background-color: #434B5C;\n",
              "      box-shadow: 0px 1px 3px 1px rgba(0, 0, 0, 0.15);\n",
              "      filter: drop-shadow(0px 1px 2px rgba(0, 0, 0, 0.3));\n",
              "      fill: #FFFFFF;\n",
              "    }\n",
              "  </style>\n",
              "\n",
              "      <script>\n",
              "        const buttonEl =\n",
              "          document.querySelector('#df-fdc07739-2f0e-4489-be2e-3a53aa29461b button.colab-df-convert');\n",
              "        buttonEl.style.display =\n",
              "          google.colab.kernel.accessAllowed ? 'block' : 'none';\n",
              "\n",
              "        async function convertToInteractive(key) {\n",
              "          const element = document.querySelector('#df-fdc07739-2f0e-4489-be2e-3a53aa29461b');\n",
              "          const dataTable =\n",
              "            await google.colab.kernel.invokeFunction('convertToInteractive',\n",
              "                                                     [key], {});\n",
              "          if (!dataTable) return;\n",
              "\n",
              "          const docLinkHtml = 'Like what you see? Visit the ' +\n",
              "            '<a target=\"_blank\" href=https://colab.research.google.com/notebooks/data_table.ipynb>data table notebook</a>'\n",
              "            + ' to learn more about interactive tables.';\n",
              "          element.innerHTML = '';\n",
              "          dataTable['output_type'] = 'display_data';\n",
              "          await google.colab.output.renderOutput(dataTable, element);\n",
              "          const docLink = document.createElement('div');\n",
              "          docLink.innerHTML = docLinkHtml;\n",
              "          element.appendChild(docLink);\n",
              "        }\n",
              "      </script>\n",
              "    </div>\n",
              "  </div>\n",
              "  "
            ]
          },
          "metadata": {},
          "execution_count": 90
        }
      ]
    },
    {
      "cell_type": "code",
      "source": [
        "#Let's look at the distributions...\n",
        "\n",
        "pred_df.describe()"
      ],
      "metadata": {
        "id": "fzebjHuN0DJK",
        "colab": {
          "base_uri": "https://localhost:8080/",
          "height": 300
        },
        "outputId": "083e02c5-db7d-4f47-b45e-b778a4118965"
      },
      "execution_count": null,
      "outputs": [
        {
          "output_type": "execute_result",
          "data": {
            "text/plain": [
              "            anger_10       anger_75        fear_10        fear_75  \\\n",
              "count  116687.000000  116687.000000  116687.000000  116687.000000   \n",
              "mean        3.633378       3.481322       3.358018       2.026541   \n",
              "std         1.511424       1.138586       1.397540       1.706280   \n",
              "min         0.000000       0.000000       0.000000       0.000000   \n",
              "25%         4.000000       4.000000       3.000000       0.000000   \n",
              "50%         4.000000       4.000000       4.000000       2.000000   \n",
              "75%         5.000000       4.000000       4.000000       4.000000   \n",
              "max         5.000000       5.000000       5.000000       5.000000   \n",
              "\n",
              "          anger_diff      fear_diff    anger_total     fear_total  \\\n",
              "count  116687.000000  116687.000000  116687.000000  116687.000000   \n",
              "mean        1.298131       2.030578       7.114700       5.384559   \n",
              "std         1.400514       1.573178       1.880979       2.214429   \n",
              "min         0.000000       0.000000       0.000000       0.000000   \n",
              "25%         0.000000       1.000000       6.000000       4.000000   \n",
              "50%         1.000000       2.000000       8.000000       5.000000   \n",
              "75%         2.000000       4.000000       8.000000       7.000000   \n",
              "max         5.000000       5.000000      10.000000      10.000000   \n",
              "\n",
              "       emotion_total  \n",
              "count  116687.000000  \n",
              "mean       12.499259  \n",
              "std         2.935902  \n",
              "min         0.000000  \n",
              "25%        11.000000  \n",
              "50%        13.000000  \n",
              "75%        15.000000  \n",
              "max        20.000000  "
            ],
            "text/html": [
              "\n",
              "  <div id=\"df-f09b6ccb-25f7-4f70-ac0e-3006cb846395\">\n",
              "    <div class=\"colab-df-container\">\n",
              "      <div>\n",
              "<style scoped>\n",
              "    .dataframe tbody tr th:only-of-type {\n",
              "        vertical-align: middle;\n",
              "    }\n",
              "\n",
              "    .dataframe tbody tr th {\n",
              "        vertical-align: top;\n",
              "    }\n",
              "\n",
              "    .dataframe thead th {\n",
              "        text-align: right;\n",
              "    }\n",
              "</style>\n",
              "<table border=\"1\" class=\"dataframe\">\n",
              "  <thead>\n",
              "    <tr style=\"text-align: right;\">\n",
              "      <th></th>\n",
              "      <th>anger_10</th>\n",
              "      <th>anger_75</th>\n",
              "      <th>fear_10</th>\n",
              "      <th>fear_75</th>\n",
              "      <th>anger_diff</th>\n",
              "      <th>fear_diff</th>\n",
              "      <th>anger_total</th>\n",
              "      <th>fear_total</th>\n",
              "      <th>emotion_total</th>\n",
              "    </tr>\n",
              "  </thead>\n",
              "  <tbody>\n",
              "    <tr>\n",
              "      <th>count</th>\n",
              "      <td>116687.000000</td>\n",
              "      <td>116687.000000</td>\n",
              "      <td>116687.000000</td>\n",
              "      <td>116687.000000</td>\n",
              "      <td>116687.000000</td>\n",
              "      <td>116687.000000</td>\n",
              "      <td>116687.000000</td>\n",
              "      <td>116687.000000</td>\n",
              "      <td>116687.000000</td>\n",
              "    </tr>\n",
              "    <tr>\n",
              "      <th>mean</th>\n",
              "      <td>3.633378</td>\n",
              "      <td>3.481322</td>\n",
              "      <td>3.358018</td>\n",
              "      <td>2.026541</td>\n",
              "      <td>1.298131</td>\n",
              "      <td>2.030578</td>\n",
              "      <td>7.114700</td>\n",
              "      <td>5.384559</td>\n",
              "      <td>12.499259</td>\n",
              "    </tr>\n",
              "    <tr>\n",
              "      <th>std</th>\n",
              "      <td>1.511424</td>\n",
              "      <td>1.138586</td>\n",
              "      <td>1.397540</td>\n",
              "      <td>1.706280</td>\n",
              "      <td>1.400514</td>\n",
              "      <td>1.573178</td>\n",
              "      <td>1.880979</td>\n",
              "      <td>2.214429</td>\n",
              "      <td>2.935902</td>\n",
              "    </tr>\n",
              "    <tr>\n",
              "      <th>min</th>\n",
              "      <td>0.000000</td>\n",
              "      <td>0.000000</td>\n",
              "      <td>0.000000</td>\n",
              "      <td>0.000000</td>\n",
              "      <td>0.000000</td>\n",
              "      <td>0.000000</td>\n",
              "      <td>0.000000</td>\n",
              "      <td>0.000000</td>\n",
              "      <td>0.000000</td>\n",
              "    </tr>\n",
              "    <tr>\n",
              "      <th>25%</th>\n",
              "      <td>4.000000</td>\n",
              "      <td>4.000000</td>\n",
              "      <td>3.000000</td>\n",
              "      <td>0.000000</td>\n",
              "      <td>0.000000</td>\n",
              "      <td>1.000000</td>\n",
              "      <td>6.000000</td>\n",
              "      <td>4.000000</td>\n",
              "      <td>11.000000</td>\n",
              "    </tr>\n",
              "    <tr>\n",
              "      <th>50%</th>\n",
              "      <td>4.000000</td>\n",
              "      <td>4.000000</td>\n",
              "      <td>4.000000</td>\n",
              "      <td>2.000000</td>\n",
              "      <td>1.000000</td>\n",
              "      <td>2.000000</td>\n",
              "      <td>8.000000</td>\n",
              "      <td>5.000000</td>\n",
              "      <td>13.000000</td>\n",
              "    </tr>\n",
              "    <tr>\n",
              "      <th>75%</th>\n",
              "      <td>5.000000</td>\n",
              "      <td>4.000000</td>\n",
              "      <td>4.000000</td>\n",
              "      <td>4.000000</td>\n",
              "      <td>2.000000</td>\n",
              "      <td>4.000000</td>\n",
              "      <td>8.000000</td>\n",
              "      <td>7.000000</td>\n",
              "      <td>15.000000</td>\n",
              "    </tr>\n",
              "    <tr>\n",
              "      <th>max</th>\n",
              "      <td>5.000000</td>\n",
              "      <td>5.000000</td>\n",
              "      <td>5.000000</td>\n",
              "      <td>5.000000</td>\n",
              "      <td>5.000000</td>\n",
              "      <td>5.000000</td>\n",
              "      <td>10.000000</td>\n",
              "      <td>10.000000</td>\n",
              "      <td>20.000000</td>\n",
              "    </tr>\n",
              "  </tbody>\n",
              "</table>\n",
              "</div>\n",
              "      <button class=\"colab-df-convert\" onclick=\"convertToInteractive('df-f09b6ccb-25f7-4f70-ac0e-3006cb846395')\"\n",
              "              title=\"Convert this dataframe to an interactive table.\"\n",
              "              style=\"display:none;\">\n",
              "        \n",
              "  <svg xmlns=\"http://www.w3.org/2000/svg\" height=\"24px\"viewBox=\"0 0 24 24\"\n",
              "       width=\"24px\">\n",
              "    <path d=\"M0 0h24v24H0V0z\" fill=\"none\"/>\n",
              "    <path d=\"M18.56 5.44l.94 2.06.94-2.06 2.06-.94-2.06-.94-.94-2.06-.94 2.06-2.06.94zm-11 1L8.5 8.5l.94-2.06 2.06-.94-2.06-.94L8.5 2.5l-.94 2.06-2.06.94zm10 10l.94 2.06.94-2.06 2.06-.94-2.06-.94-.94-2.06-.94 2.06-2.06.94z\"/><path d=\"M17.41 7.96l-1.37-1.37c-.4-.4-.92-.59-1.43-.59-.52 0-1.04.2-1.43.59L10.3 9.45l-7.72 7.72c-.78.78-.78 2.05 0 2.83L4 21.41c.39.39.9.59 1.41.59.51 0 1.02-.2 1.41-.59l7.78-7.78 2.81-2.81c.8-.78.8-2.07 0-2.86zM5.41 20L4 18.59l7.72-7.72 1.47 1.35L5.41 20z\"/>\n",
              "  </svg>\n",
              "      </button>\n",
              "      \n",
              "  <style>\n",
              "    .colab-df-container {\n",
              "      display:flex;\n",
              "      flex-wrap:wrap;\n",
              "      gap: 12px;\n",
              "    }\n",
              "\n",
              "    .colab-df-convert {\n",
              "      background-color: #E8F0FE;\n",
              "      border: none;\n",
              "      border-radius: 50%;\n",
              "      cursor: pointer;\n",
              "      display: none;\n",
              "      fill: #1967D2;\n",
              "      height: 32px;\n",
              "      padding: 0 0 0 0;\n",
              "      width: 32px;\n",
              "    }\n",
              "\n",
              "    .colab-df-convert:hover {\n",
              "      background-color: #E2EBFA;\n",
              "      box-shadow: 0px 1px 2px rgba(60, 64, 67, 0.3), 0px 1px 3px 1px rgba(60, 64, 67, 0.15);\n",
              "      fill: #174EA6;\n",
              "    }\n",
              "\n",
              "    [theme=dark] .colab-df-convert {\n",
              "      background-color: #3B4455;\n",
              "      fill: #D2E3FC;\n",
              "    }\n",
              "\n",
              "    [theme=dark] .colab-df-convert:hover {\n",
              "      background-color: #434B5C;\n",
              "      box-shadow: 0px 1px 3px 1px rgba(0, 0, 0, 0.15);\n",
              "      filter: drop-shadow(0px 1px 2px rgba(0, 0, 0, 0.3));\n",
              "      fill: #FFFFFF;\n",
              "    }\n",
              "  </style>\n",
              "\n",
              "      <script>\n",
              "        const buttonEl =\n",
              "          document.querySelector('#df-f09b6ccb-25f7-4f70-ac0e-3006cb846395 button.colab-df-convert');\n",
              "        buttonEl.style.display =\n",
              "          google.colab.kernel.accessAllowed ? 'block' : 'none';\n",
              "\n",
              "        async function convertToInteractive(key) {\n",
              "          const element = document.querySelector('#df-f09b6ccb-25f7-4f70-ac0e-3006cb846395');\n",
              "          const dataTable =\n",
              "            await google.colab.kernel.invokeFunction('convertToInteractive',\n",
              "                                                     [key], {});\n",
              "          if (!dataTable) return;\n",
              "\n",
              "          const docLinkHtml = 'Like what you see? Visit the ' +\n",
              "            '<a target=\"_blank\" href=https://colab.research.google.com/notebooks/data_table.ipynb>data table notebook</a>'\n",
              "            + ' to learn more about interactive tables.';\n",
              "          element.innerHTML = '';\n",
              "          dataTable['output_type'] = 'display_data';\n",
              "          await google.colab.output.renderOutput(dataTable, element);\n",
              "          const docLink = document.createElement('div');\n",
              "          docLink.innerHTML = docLinkHtml;\n",
              "          element.appendChild(docLink);\n",
              "        }\n",
              "      </script>\n",
              "    </div>\n",
              "  </div>\n",
              "  "
            ]
          },
          "metadata": {},
          "execution_count": 91
        }
      ]
    },
    {
      "cell_type": "code",
      "source": [
        "pred_df['fear_10'].value_counts().sort_index()"
      ],
      "metadata": {
        "id": "1vgAn75H0zde",
        "colab": {
          "base_uri": "https://localhost:8080/"
        },
        "outputId": "8608ddab-29a8-47a6-9a8f-c8b888de7ef4"
      },
      "execution_count": null,
      "outputs": [
        {
          "output_type": "execute_result",
          "data": {
            "text/plain": [
              "0     7190\n",
              "1    14396\n",
              "2     4297\n",
              "3     4285\n",
              "4    76603\n",
              "5     9916\n",
              "Name: fear_10, dtype: int64"
            ]
          },
          "metadata": {},
          "execution_count": 92
        }
      ]
    },
    {
      "cell_type": "markdown",
      "source": [
        "#Merging Classification Dataset with Other Variables... \n",
        "\n",
        "Requirements: both datasets need to be the same size...\n",
        "\n",
        "Merge on text "
      ],
      "metadata": {
        "id": "IdrVL5ipmb4R"
      }
    },
    {
      "cell_type": "code",
      "source": [
        "#Checking the size of the dataset: \n",
        "#Pred_df: (116687, 14)\n",
        "#df: (116687, 37)\n",
        "\n",
        "pred_df.shape"
      ],
      "metadata": {
        "id": "xFQlavTCmpfu",
        "colab": {
          "base_uri": "https://localhost:8080/"
        },
        "outputId": "b21c8bc5-0177-4ab2-cc2e-89a6891c6adc"
      },
      "execution_count": null,
      "outputs": [
        {
          "data": {
            "text/plain": [
              "(116687, 14)"
            ]
          },
          "execution_count": 93,
          "metadata": {},
          "output_type": "execute_result"
        }
      ]
    },
    {
      "cell_type": "code",
      "source": [
        "# merge the two datasets on the 'text' column\n",
        "merged_df = pd.merge(df, pred_df, on='text')"
      ],
      "metadata": {
        "id": "vjxrzHJynEz8"
      },
      "execution_count": null,
      "outputs": []
    },
    {
      "cell_type": "code",
      "source": [
        "#Let's check the shape of the new dataframe....\n",
        "merged_df.shape"
      ],
      "metadata": {
        "id": "7xY7p1iCoxsx",
        "colab": {
          "base_uri": "https://localhost:8080/"
        },
        "outputId": "2655d36c-3fc1-4856-f4ba-8f5a4f06dda2"
      },
      "execution_count": null,
      "outputs": [
        {
          "output_type": "execute_result",
          "data": {
            "text/plain": [
              "(373123, 50)"
            ]
          },
          "metadata": {},
          "execution_count": 95
        }
      ]
    },
    {
      "cell_type": "markdown",
      "source": [
        "#Error Prediction Analysis "
      ],
      "metadata": {
        "id": "pf7kZeQRT0KH"
      }
    },
    {
      "cell_type": "code",
      "source": [
        "pred_df['word_count'] = pred_df['text'].apply(lambda x: len(x.split()))"
      ],
      "metadata": {
        "id": "b3ZrgQIgOiUK"
      },
      "execution_count": null,
      "outputs": []
    },
    {
      "cell_type": "code",
      "source": [
        "import pandas as pd\n",
        "from sklearn.ensemble import RandomForestRegressor\n",
        "from sklearn.model_selection import train_test_split\n",
        "\n",
        "# Define the features and target variable\n",
        "X = pred_df[['word_count', 'anger_10', 'anger_75']]\n",
        "y = pred_df['fear_diff']\n",
        "\n",
        "# Split the data into training and test sets\n",
        "X_train, X_test, y_train, y_test = train_test_split(X, y, test_size=0.2, random_state=42)\n",
        "\n",
        "# Train a random forest regressor\n",
        "rf = RandomForestRegressor(n_estimators=100, random_state=42)\n",
        "rf.fit(X_train, y_train)\n",
        "\n",
        "# Evaluate the model on the test set\n",
        "rf_score = rf.score(X_test, y_test)\n",
        "print(f'Random Forest R^2 score: {rf_score:.4f}')\n",
        "\n",
        "# Get the feature importance and print it out\n",
        "feature_importance = rf.feature_importances_\n",
        "print('Feature Importance:')\n",
        "print(f'Word Count: {feature_importance[0]:.4f}')\n",
        "print(f'Anger_10: {feature_importance[1]:.4f}')\n",
        "print(f'Anger_75: {feature_importance[2]:.4f}')\n",
        "#print(f'Fear_10: {feature_importance[3]:.4f}')\n",
        "#print(f'Fear_75: {feature_importance[4]:.4f}')\n"
      ],
      "metadata": {
        "id": "H2lRyZL9Odnv",
        "colab": {
          "base_uri": "https://localhost:8080/"
        },
        "outputId": "122a9578-49a3-4640-c07e-b769d75f9e59"
      },
      "execution_count": null,
      "outputs": [
        {
          "output_type": "stream",
          "name": "stdout",
          "text": [
            "Random Forest R^2 score: 0.0560\n",
            "Feature Importance:\n",
            "Word Count: 0.7444\n",
            "Anger_10: 0.1338\n",
            "Anger_75: 0.1218\n"
          ]
        }
      ]
    },
    {
      "cell_type": "markdown",
      "source": [
        "#Exporting the dataset"
      ],
      "metadata": {
        "id": "YjurJeDg-arK"
      }
    },
    {
      "cell_type": "code",
      "source": [
        "path = \"/content/drive/MyDrive/Sean/Emoclass/inference_COVID19_223K_March9b,2023.csv\"\n",
        "pred_df.to_csv(path)"
      ],
      "metadata": {
        "id": "mSJrpZfV-Z78"
      },
      "execution_count": null,
      "outputs": []
    }
  ]
}