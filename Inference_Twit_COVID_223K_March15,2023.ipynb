{
  "nbformat": 4,
  "nbformat_minor": 0,
  "metadata": {
    "colab": {
      "provenance": [],
      "authorship_tag": "ABX9TyOnifXr6obm+mOFoEuuVZTt",
      "include_colab_link": true
    },
    "kernelspec": {
      "name": "python3",
      "display_name": "Python 3"
    },
    "language_info": {
      "name": "python"
    },
    "accelerator": "GPU",
    "gpuClass": "standard"
  },
  "cells": [
    {
      "cell_type": "markdown",
      "metadata": {
        "id": "view-in-github",
        "colab_type": "text"
      },
      "source": [
        "<a href=\"https://colab.research.google.com/github/Morningspread/Angry-Tweeter/blob/main/Inference_Twit_COVID_223K_March15%2C2023.ipynb\" target=\"_parent\"><img src=\"https://colab.research.google.com/assets/colab-badge.svg\" alt=\"Open In Colab\"/></a>"
      ]
    },
    {
      "cell_type": "markdown",
      "source": [
        "#Running our inference pipeline on Twitter data... \n",
        "\n",
        "Dataset: \n",
        "\n",
        "Twint COVID-19 scrape - 223K tweets... \n",
        "\n",
        "Path to models...\n",
        "\n",
        "\n",
        "1.   /content/drive/MyDrive/Sean/Emoclass/Model_Anger_10words_70acc_Feb25,2023\n",
        "2.   /content/drive/MyDrive/Sean/Emoclass/Model_Anger_75words_71acc_Feb28,2023\n",
        "3. /content/drive/MyDrive/Sean/Emoclass/Model_Fear_151K_11words_75acc_Feb24,2023\n",
        "4. /content/drive/MyDrive/Sean/Emoclass/Model_Fear_78acc_75words_Feb17b,2022\n",
        "\n",
        "Requirements\n",
        "All the models need to be trained on the same input length... \n",
        "\n",
        "\n",
        "\n",
        "\n"
      ],
      "metadata": {
        "id": "DxyjgXFcgOPr"
      }
    },
    {
      "cell_type": "code",
      "execution_count": 30,
      "metadata": {
        "id": "3EtB-xiKdO5y",
        "colab": {
          "base_uri": "https://localhost:8080/"
        },
        "outputId": "65f20246-cd82-4a7b-ffc0-db9069bd3ed4"
      },
      "outputs": [
        {
          "output_type": "stream",
          "name": "stdout",
          "text": [
            "Drive already mounted at /content/drive; to attempt to forcibly remount, call drive.mount(\"/content/drive\", force_remount=True).\n"
          ]
        }
      ],
      "source": [
        "# Load the Drive helper and mount\n",
        "\n",
        "from google.colab import drive\n",
        "drive.mount('/content/drive')"
      ]
    },
    {
      "cell_type": "code",
      "source": [
        "#This is supposed to help us navigate to our folder... \n",
        "\n",
        "import os\n",
        "os.chdir('/content/drive/MyDrive/Sean/Emoclass')"
      ],
      "metadata": {
        "id": "Mb9bqhf6gSLw"
      },
      "execution_count": 31,
      "outputs": []
    },
    {
      "cell_type": "code",
      "source": [
        "#Loading the dependencies.. \n",
        "\n",
        "%matplotlib inline\n",
        "\n",
        "import tensorflow as tf\n",
        "from tensorflow import keras\n",
        "import numpy as np\n",
        "import matplotlib.pyplot as plt\n",
        "import pandas as pd\n",
        "import re \n",
        "\n",
        "#Loading the tokenizers...\n",
        "\n",
        "from tensorflow.keras.preprocessing.text import Tokenizer\n",
        "\n",
        "#Importing the pad sequence... \n",
        "from tensorflow.keras.preprocessing.sequence import pad_sequences"
      ],
      "metadata": {
        "id": "ngeMQgoUgULG"
      },
      "execution_count": 32,
      "outputs": []
    },
    {
      "cell_type": "markdown",
      "source": [
        "#Loading the training models and datasets "
      ],
      "metadata": {
        "id": "s_rJlotUhHz-"
      }
    },
    {
      "cell_type": "code",
      "source": [
        "# Load trained models - only need to do this once per run... \n",
        "\n",
        "#anger_model_10 = tf.keras.models.load_model('/content/drive/MyDrive/Sean/Emoclass/Model_Anger_10words_70acc_Feb25,2023')\n",
        "#anger_model_75 = tf.keras.models.load_model('/content/drive/MyDrive/Sean/Emoclass/Model_Anger_75words_71acc_Feb28,2023')\n",
        "#fear_model_10 = tf.keras.models.load_model('/content/drive/MyDrive/Sean/Emoclass/Model_Fear_151K_11words_75acc_Feb24,2023')\n",
        "#fear_model_75 = tf.keras.models.load_model('/content/drive/MyDrive/Sean/Emoclass/Model_Fear_78acc_75words_Feb17b,2022')\n"
      ],
      "metadata": {
        "id": "a3fYP4rthE0K"
      },
      "execution_count": 33,
      "outputs": []
    },
    {
      "cell_type": "code",
      "source": [
        "# Load inference dataset... \n",
        "\n",
        "df = pd.read_csv(\"/content/drive/MyDrive/Sean/Twitter/COVID_223KTweets.csv\")"
      ],
      "metadata": {
        "id": "ZtO9oSlHhMZi"
      },
      "execution_count": 34,
      "outputs": []
    },
    {
      "cell_type": "code",
      "source": [
        "df.columns"
      ],
      "metadata": {
        "colab": {
          "base_uri": "https://localhost:8080/"
        },
        "id": "g-QKq4D-j05s",
        "outputId": "d3ef9ef2-561d-4b3d-b733-4ab4c26596e1"
      },
      "execution_count": 35,
      "outputs": [
        {
          "output_type": "execute_result",
          "data": {
            "text/plain": [
              "Index(['id', 'conversation_id', 'created_at', 'date', 'time', 'timezone',\n",
              "       'user_id', 'username', 'name', 'place', 'tweet', 'language', 'mentions',\n",
              "       'urls', 'photos', 'replies_count', 'retweets_count', 'likes_count',\n",
              "       'hashtags', 'cashtags', 'link', 'retweet', 'quote_url', 'video',\n",
              "       'thumbnail', 'near', 'geo', 'source', 'user_rt_id', 'user_rt',\n",
              "       'retweet_id', 'reply_to', 'retweet_date', 'translate', 'trans_src',\n",
              "       'trans_dest'],\n",
              "      dtype='object')"
            ]
          },
          "metadata": {},
          "execution_count": 35
        }
      ]
    },
    {
      "cell_type": "code",
      "source": [
        "# rename the 'tweet' column to 'text'\n",
        "df = df.rename(columns={'tweet': 'text'})"
      ],
      "metadata": {
        "id": "l5qAwYn7hPgH"
      },
      "execution_count": 36,
      "outputs": []
    },
    {
      "cell_type": "code",
      "source": [
        "#Checking for missing variables...\n",
        "\n",
        "df.isna().sum()"
      ],
      "metadata": {
        "colab": {
          "base_uri": "https://localhost:8080/"
        },
        "id": "CnhF98zEjxR0",
        "outputId": "a30db928-9ac4-42e6-9b4c-a87e0078bee7"
      },
      "execution_count": 37,
      "outputs": [
        {
          "output_type": "execute_result",
          "data": {
            "text/plain": [
              "id                      0\n",
              "conversation_id         0\n",
              "created_at              0\n",
              "date                    0\n",
              "time                    0\n",
              "timezone                0\n",
              "user_id                 0\n",
              "username                0\n",
              "name                    9\n",
              "place              223844\n",
              "text                    0\n",
              "language                0\n",
              "mentions                0\n",
              "urls                    0\n",
              "photos                  0\n",
              "replies_count           0\n",
              "retweets_count          0\n",
              "likes_count             0\n",
              "hashtags                0\n",
              "cashtags                0\n",
              "link                    0\n",
              "retweet                 0\n",
              "quote_url          206532\n",
              "video                   0\n",
              "thumbnail          163436\n",
              "near               223955\n",
              "geo                223955\n",
              "source             223955\n",
              "user_rt_id         223955\n",
              "user_rt            223955\n",
              "retweet_id         223955\n",
              "reply_to                0\n",
              "retweet_date       223955\n",
              "translate          223955\n",
              "trans_src          223955\n",
              "trans_dest         223955\n",
              "dtype: int64"
            ]
          },
          "metadata": {},
          "execution_count": 37
        }
      ]
    },
    {
      "cell_type": "markdown",
      "source": [
        "##Filtering the non-english tweets - 116K english... \n",
        "\n",
        "Check to see if index needs to be reset..."
      ],
      "metadata": {
        "id": "JfVS82UXj2t2"
      }
    },
    {
      "cell_type": "code",
      "source": [
        "#We need to reset the index here...and drop the old one. \n",
        "\n",
        "df = df[df['language'] == 'en'].reset_index(drop=True)"
      ],
      "metadata": {
        "id": "EBGUJ_Grj6R0"
      },
      "execution_count": 38,
      "outputs": []
    },
    {
      "cell_type": "code",
      "source": [
        "#Let's check and see what's happening with the dataframe... \n",
        "\n",
        "df.head()"
      ],
      "metadata": {
        "colab": {
          "base_uri": "https://localhost:8080/",
          "height": 507
        },
        "id": "hzFTU16yIScj",
        "outputId": "116e939d-2a74-43e5-a773-26ce1a0d3f4c"
      },
      "execution_count": 39,
      "outputs": [
        {
          "output_type": "execute_result",
          "data": {
            "text/plain": [
              "                    id      conversation_id               created_at  \\\n",
              "0  1578109493392515073  1578109493392515073  2022-10-06 19:46:37 UTC   \n",
              "1  1578109461184454656  1578101418317082624  2022-10-06 19:46:30 UTC   \n",
              "2  1578109438464241666  1578087822858522630  2022-10-06 19:46:24 UTC   \n",
              "3  1578109398215426048  1578109398215426048  2022-10-06 19:46:15 UTC   \n",
              "4  1578109382625067008  1578109382625067008  2022-10-06 19:46:11 UTC   \n",
              "\n",
              "         date      time  timezone              user_id         username  \\\n",
              "0  2022-10-06  19:46:37         0  1518980837135589376  krystynaklepin1   \n",
              "1  2022-10-06  19:46:30         0  1497906018029907970  turdfur58439807   \n",
              "2  2022-10-06  19:46:24         0             16635842      spectrummag   \n",
              "3  2022-10-06  19:46:15         0             36803382     yakimahealth   \n",
              "4  2022-10-06  19:46:11         0  1550501740956422147         smslausd   \n",
              "\n",
              "                                                name place  ... geo source  \\\n",
              "0                                       Christine K.   NaN  ... NaN    NaN   \n",
              "1                                     BlackSanta9111   NaN  ... NaN    NaN   \n",
              "2                              SPECTRUM (Since 1969)   NaN  ... NaN    NaN   \n",
              "3                             Yakima Health District   NaN  ... NaN    NaN   \n",
              "4  Student Medical Services & Medi-Cal Programs L...   NaN  ... NaN    NaN   \n",
              "\n",
              "  user_rt_id user_rt retweet_id  \\\n",
              "0        NaN     NaN        NaN   \n",
              "1        NaN     NaN        NaN   \n",
              "2        NaN     NaN        NaN   \n",
              "3        NaN     NaN        NaN   \n",
              "4        NaN     NaN        NaN   \n",
              "\n",
              "                                            reply_to  retweet_date  translate  \\\n",
              "0                                                 []           NaN        NaN   \n",
              "1  [{'screen_name': 'montanamike_tx', 'name': 'mi...           NaN        NaN   \n",
              "2                                                 []           NaN        NaN   \n",
              "3                                                 []           NaN        NaN   \n",
              "4                                                 []           NaN        NaN   \n",
              "\n",
              "  trans_src trans_dest  \n",
              "0       NaN        NaN  \n",
              "1       NaN        NaN  \n",
              "2       NaN        NaN  \n",
              "3       NaN        NaN  \n",
              "4       NaN        NaN  \n",
              "\n",
              "[5 rows x 36 columns]"
            ],
            "text/html": [
              "\n",
              "  <div id=\"df-66ac34d0-2ac4-473d-a3c9-41714bf3bcc1\">\n",
              "    <div class=\"colab-df-container\">\n",
              "      <div>\n",
              "<style scoped>\n",
              "    .dataframe tbody tr th:only-of-type {\n",
              "        vertical-align: middle;\n",
              "    }\n",
              "\n",
              "    .dataframe tbody tr th {\n",
              "        vertical-align: top;\n",
              "    }\n",
              "\n",
              "    .dataframe thead th {\n",
              "        text-align: right;\n",
              "    }\n",
              "</style>\n",
              "<table border=\"1\" class=\"dataframe\">\n",
              "  <thead>\n",
              "    <tr style=\"text-align: right;\">\n",
              "      <th></th>\n",
              "      <th>id</th>\n",
              "      <th>conversation_id</th>\n",
              "      <th>created_at</th>\n",
              "      <th>date</th>\n",
              "      <th>time</th>\n",
              "      <th>timezone</th>\n",
              "      <th>user_id</th>\n",
              "      <th>username</th>\n",
              "      <th>name</th>\n",
              "      <th>place</th>\n",
              "      <th>...</th>\n",
              "      <th>geo</th>\n",
              "      <th>source</th>\n",
              "      <th>user_rt_id</th>\n",
              "      <th>user_rt</th>\n",
              "      <th>retweet_id</th>\n",
              "      <th>reply_to</th>\n",
              "      <th>retweet_date</th>\n",
              "      <th>translate</th>\n",
              "      <th>trans_src</th>\n",
              "      <th>trans_dest</th>\n",
              "    </tr>\n",
              "  </thead>\n",
              "  <tbody>\n",
              "    <tr>\n",
              "      <th>0</th>\n",
              "      <td>1578109493392515073</td>\n",
              "      <td>1578109493392515073</td>\n",
              "      <td>2022-10-06 19:46:37 UTC</td>\n",
              "      <td>2022-10-06</td>\n",
              "      <td>19:46:37</td>\n",
              "      <td>0</td>\n",
              "      <td>1518980837135589376</td>\n",
              "      <td>krystynaklepin1</td>\n",
              "      <td>Christine K.</td>\n",
              "      <td>NaN</td>\n",
              "      <td>...</td>\n",
              "      <td>NaN</td>\n",
              "      <td>NaN</td>\n",
              "      <td>NaN</td>\n",
              "      <td>NaN</td>\n",
              "      <td>NaN</td>\n",
              "      <td>[]</td>\n",
              "      <td>NaN</td>\n",
              "      <td>NaN</td>\n",
              "      <td>NaN</td>\n",
              "      <td>NaN</td>\n",
              "    </tr>\n",
              "    <tr>\n",
              "      <th>1</th>\n",
              "      <td>1578109461184454656</td>\n",
              "      <td>1578101418317082624</td>\n",
              "      <td>2022-10-06 19:46:30 UTC</td>\n",
              "      <td>2022-10-06</td>\n",
              "      <td>19:46:30</td>\n",
              "      <td>0</td>\n",
              "      <td>1497906018029907970</td>\n",
              "      <td>turdfur58439807</td>\n",
              "      <td>BlackSanta9111</td>\n",
              "      <td>NaN</td>\n",
              "      <td>...</td>\n",
              "      <td>NaN</td>\n",
              "      <td>NaN</td>\n",
              "      <td>NaN</td>\n",
              "      <td>NaN</td>\n",
              "      <td>NaN</td>\n",
              "      <td>[{'screen_name': 'montanamike_tx', 'name': 'mi...</td>\n",
              "      <td>NaN</td>\n",
              "      <td>NaN</td>\n",
              "      <td>NaN</td>\n",
              "      <td>NaN</td>\n",
              "    </tr>\n",
              "    <tr>\n",
              "      <th>2</th>\n",
              "      <td>1578109438464241666</td>\n",
              "      <td>1578087822858522630</td>\n",
              "      <td>2022-10-06 19:46:24 UTC</td>\n",
              "      <td>2022-10-06</td>\n",
              "      <td>19:46:24</td>\n",
              "      <td>0</td>\n",
              "      <td>16635842</td>\n",
              "      <td>spectrummag</td>\n",
              "      <td>SPECTRUM (Since 1969)</td>\n",
              "      <td>NaN</td>\n",
              "      <td>...</td>\n",
              "      <td>NaN</td>\n",
              "      <td>NaN</td>\n",
              "      <td>NaN</td>\n",
              "      <td>NaN</td>\n",
              "      <td>NaN</td>\n",
              "      <td>[]</td>\n",
              "      <td>NaN</td>\n",
              "      <td>NaN</td>\n",
              "      <td>NaN</td>\n",
              "      <td>NaN</td>\n",
              "    </tr>\n",
              "    <tr>\n",
              "      <th>3</th>\n",
              "      <td>1578109398215426048</td>\n",
              "      <td>1578109398215426048</td>\n",
              "      <td>2022-10-06 19:46:15 UTC</td>\n",
              "      <td>2022-10-06</td>\n",
              "      <td>19:46:15</td>\n",
              "      <td>0</td>\n",
              "      <td>36803382</td>\n",
              "      <td>yakimahealth</td>\n",
              "      <td>Yakima Health District</td>\n",
              "      <td>NaN</td>\n",
              "      <td>...</td>\n",
              "      <td>NaN</td>\n",
              "      <td>NaN</td>\n",
              "      <td>NaN</td>\n",
              "      <td>NaN</td>\n",
              "      <td>NaN</td>\n",
              "      <td>[]</td>\n",
              "      <td>NaN</td>\n",
              "      <td>NaN</td>\n",
              "      <td>NaN</td>\n",
              "      <td>NaN</td>\n",
              "    </tr>\n",
              "    <tr>\n",
              "      <th>4</th>\n",
              "      <td>1578109382625067008</td>\n",
              "      <td>1578109382625067008</td>\n",
              "      <td>2022-10-06 19:46:11 UTC</td>\n",
              "      <td>2022-10-06</td>\n",
              "      <td>19:46:11</td>\n",
              "      <td>0</td>\n",
              "      <td>1550501740956422147</td>\n",
              "      <td>smslausd</td>\n",
              "      <td>Student Medical Services &amp; Medi-Cal Programs L...</td>\n",
              "      <td>NaN</td>\n",
              "      <td>...</td>\n",
              "      <td>NaN</td>\n",
              "      <td>NaN</td>\n",
              "      <td>NaN</td>\n",
              "      <td>NaN</td>\n",
              "      <td>NaN</td>\n",
              "      <td>[]</td>\n",
              "      <td>NaN</td>\n",
              "      <td>NaN</td>\n",
              "      <td>NaN</td>\n",
              "      <td>NaN</td>\n",
              "    </tr>\n",
              "  </tbody>\n",
              "</table>\n",
              "<p>5 rows × 36 columns</p>\n",
              "</div>\n",
              "      <button class=\"colab-df-convert\" onclick=\"convertToInteractive('df-66ac34d0-2ac4-473d-a3c9-41714bf3bcc1')\"\n",
              "              title=\"Convert this dataframe to an interactive table.\"\n",
              "              style=\"display:none;\">\n",
              "        \n",
              "  <svg xmlns=\"http://www.w3.org/2000/svg\" height=\"24px\"viewBox=\"0 0 24 24\"\n",
              "       width=\"24px\">\n",
              "    <path d=\"M0 0h24v24H0V0z\" fill=\"none\"/>\n",
              "    <path d=\"M18.56 5.44l.94 2.06.94-2.06 2.06-.94-2.06-.94-.94-2.06-.94 2.06-2.06.94zm-11 1L8.5 8.5l.94-2.06 2.06-.94-2.06-.94L8.5 2.5l-.94 2.06-2.06.94zm10 10l.94 2.06.94-2.06 2.06-.94-2.06-.94-.94-2.06-.94 2.06-2.06.94z\"/><path d=\"M17.41 7.96l-1.37-1.37c-.4-.4-.92-.59-1.43-.59-.52 0-1.04.2-1.43.59L10.3 9.45l-7.72 7.72c-.78.78-.78 2.05 0 2.83L4 21.41c.39.39.9.59 1.41.59.51 0 1.02-.2 1.41-.59l7.78-7.78 2.81-2.81c.8-.78.8-2.07 0-2.86zM5.41 20L4 18.59l7.72-7.72 1.47 1.35L5.41 20z\"/>\n",
              "  </svg>\n",
              "      </button>\n",
              "      \n",
              "  <style>\n",
              "    .colab-df-container {\n",
              "      display:flex;\n",
              "      flex-wrap:wrap;\n",
              "      gap: 12px;\n",
              "    }\n",
              "\n",
              "    .colab-df-convert {\n",
              "      background-color: #E8F0FE;\n",
              "      border: none;\n",
              "      border-radius: 50%;\n",
              "      cursor: pointer;\n",
              "      display: none;\n",
              "      fill: #1967D2;\n",
              "      height: 32px;\n",
              "      padding: 0 0 0 0;\n",
              "      width: 32px;\n",
              "    }\n",
              "\n",
              "    .colab-df-convert:hover {\n",
              "      background-color: #E2EBFA;\n",
              "      box-shadow: 0px 1px 2px rgba(60, 64, 67, 0.3), 0px 1px 3px 1px rgba(60, 64, 67, 0.15);\n",
              "      fill: #174EA6;\n",
              "    }\n",
              "\n",
              "    [theme=dark] .colab-df-convert {\n",
              "      background-color: #3B4455;\n",
              "      fill: #D2E3FC;\n",
              "    }\n",
              "\n",
              "    [theme=dark] .colab-df-convert:hover {\n",
              "      background-color: #434B5C;\n",
              "      box-shadow: 0px 1px 3px 1px rgba(0, 0, 0, 0.15);\n",
              "      filter: drop-shadow(0px 1px 2px rgba(0, 0, 0, 0.3));\n",
              "      fill: #FFFFFF;\n",
              "    }\n",
              "  </style>\n",
              "\n",
              "      <script>\n",
              "        const buttonEl =\n",
              "          document.querySelector('#df-66ac34d0-2ac4-473d-a3c9-41714bf3bcc1 button.colab-df-convert');\n",
              "        buttonEl.style.display =\n",
              "          google.colab.kernel.accessAllowed ? 'block' : 'none';\n",
              "\n",
              "        async function convertToInteractive(key) {\n",
              "          const element = document.querySelector('#df-66ac34d0-2ac4-473d-a3c9-41714bf3bcc1');\n",
              "          const dataTable =\n",
              "            await google.colab.kernel.invokeFunction('convertToInteractive',\n",
              "                                                     [key], {});\n",
              "          if (!dataTable) return;\n",
              "\n",
              "          const docLinkHtml = 'Like what you see? Visit the ' +\n",
              "            '<a target=\"_blank\" href=https://colab.research.google.com/notebooks/data_table.ipynb>data table notebook</a>'\n",
              "            + ' to learn more about interactive tables.';\n",
              "          element.innerHTML = '';\n",
              "          dataTable['output_type'] = 'display_data';\n",
              "          await google.colab.output.renderOutput(dataTable, element);\n",
              "          const docLink = document.createElement('div');\n",
              "          docLink.innerHTML = docLinkHtml;\n",
              "          element.appendChild(docLink);\n",
              "        }\n",
              "      </script>\n",
              "    </div>\n",
              "  </div>\n",
              "  "
            ]
          },
          "metadata": {},
          "execution_count": 39
        }
      ]
    },
    {
      "cell_type": "markdown",
      "source": [
        "##Data cleaning step... \n",
        "\n",
        "We want to maintain the original.... text in the Tweet so that it doesn't interfere with the pre-processing."
      ],
      "metadata": {
        "id": "h4UEKxL7nvQU"
      }
    },
    {
      "cell_type": "code",
      "source": [
        "# select only the 'text' column for cleaning, tokenization and inference... \n",
        "\n",
        "text = df['text']"
      ],
      "metadata": {
        "id": "0pou-GJEn4kI"
      },
      "execution_count": 41,
      "outputs": []
    },
    {
      "cell_type": "code",
      "source": [
        "import re\n",
        "\n",
        "# define a function to remove @handles, URLs, hashtags, and apostrophes from a string\n",
        "def preprocess_text(text):\n",
        "    text = re.sub(r'@\\w+\\s?', '', text) # remove @handles\n",
        "    text = re.sub(r'http\\S+', '', text) # remove URLs\n",
        "    text = re.sub(r'#\\w+\\s?', '', text) # remove hashtags\n",
        "    text = text.replace(\"'\", \"\") # remove apostrophes\n",
        "    text = text.replace(\"?\", \"\") # remove question marks\n",
        "    text = text.replace(\"!\", \"\") # remove exclamation marks\n",
        "    return text\n",
        "\n",
        "# apply the function to the 'text' variable\n",
        "text = preprocess_text(text)\n"
      ],
      "metadata": {
        "id": "FWkdY0EMK9fb"
      },
      "execution_count": null,
      "outputs": []
    },
    {
      "cell_type": "markdown",
      "source": [
        "#Tokenizing and Padding "
      ],
      "metadata": {
        "id": "xttR7YVNoJPZ"
      }
    },
    {
      "cell_type": "code",
      "source": [
        "# Define functions for tokenizing and padding\n",
        "def tokenize_and_pad_sequences(text, tokenizer, max_len):\n",
        "    sequences = tokenizer.texts_to_sequences(text)\n",
        "    padded_sequences = pad_sequences(sequences, truncating='post', maxlen=max_len, padding='post')\n",
        "    return padded_sequences\n"
      ],
      "metadata": {
        "id": "w5yEG3mcoEIb"
      },
      "execution_count": 42,
      "outputs": []
    },
    {
      "cell_type": "code",
      "source": [
        "# Tokenize and pad input sequences\n",
        "tokenizer = Tokenizer(num_words=93886, oov_token='<UNK>')\n",
        "tokenizer.fit_on_texts(text)\n",
        "padded_sequences_400 = tokenize_and_pad_sequences(text, tokenizer, 400)\n",
        "padded_sequences_300 = tokenize_and_pad_sequences(text, tokenizer, 300)\n",
        "\n",
        "# Generate the predictions\n",
        "anger_10_preds = np.argmax(anger_model_10.predict(padded_sequences_400), axis=-1)\n",
        "anger_75_preds = np.argmax(anger_model_75.predict(padded_sequences_400), axis=-1)\n",
        "fear_10_preds = np.argmax(fear_model_10.predict(padded_sequences_300), axis=-1)\n",
        "fear_75_preds = np.argmax(fear_model_75.predict(padded_sequences_400), axis=-1)\n",
        "\n",
        "# Create dataframe of predictions\n",
        "pred_df = pd.DataFrame({\n",
        "    'text': text,\n",
        "    'anger_10': anger_10_preds,\n",
        "    'anger_75': anger_75_preds,\n",
        "    'fear_10': fear_10_preds,\n",
        "    'fear_75': fear_75_preds\n",
        "})\n"
      ],
      "metadata": {
        "colab": {
          "base_uri": "https://localhost:8080/"
        },
        "id": "D1i88PJpoaaX",
        "outputId": "057b644e-b035-4e4f-dd49-a96ea902b79c"
      },
      "execution_count": 43,
      "outputs": [
        {
          "output_type": "stream",
          "name": "stdout",
          "text": [
            "3647/3647 [==============================] - 200s 53ms/step\n",
            "3647/3647 [==============================] - 198s 54ms/step\n",
            "3647/3647 [==============================] - 111s 30ms/step\n",
            "3647/3647 [==============================] - 144s 39ms/step\n"
          ]
        }
      ]
    },
    {
      "cell_type": "markdown",
      "source": [
        "#Defining the labels for the emotions... "
      ],
      "metadata": {
        "id": "zoqa60qVome2"
      }
    },
    {
      "cell_type": "code",
      "source": [
        "# Define emotion labels\n",
        "anger_labels = ['calm', 'annoyed', 'agitated', 'frustrated', 'angry', 'rage']\n",
        "fear_labels = ['calm', 'concern', 'worry', 'anxiety', 'fear', 'dread']\n",
        "\n",
        "# Define mapping from integer label to emotion label\n",
        "anger_label_map = {i: label for i, label in enumerate(anger_labels)}\n",
        "fear_label_map = {i: label for i, label in enumerate(fear_labels)}\n",
        "\n",
        "# Add columns for predicted emotion label\n",
        "pred_df['anger_10_label'] = pred_df['anger_10'].map(anger_label_map)\n",
        "pred_df['anger_75_label'] = pred_df['anger_75'].map(anger_label_map)\n",
        "pred_df['fear_10_label'] = pred_df['fear_10'].map(fear_label_map)\n",
        "pred_df['fear_75_label'] = pred_df['fear_75'].map(fear_label_map)\n"
      ],
      "metadata": {
        "id": "1ebgcjYsoeSZ"
      },
      "execution_count": 44,
      "outputs": []
    },
    {
      "cell_type": "markdown",
      "source": [
        "##Creating sum variables... "
      ],
      "metadata": {
        "id": "ZhC6k4_wouuB"
      }
    },
    {
      "cell_type": "code",
      "source": [
        "pred_df['anger_total'] = pred_df['anger_10'] + pred_df['anger_75']\n",
        "pred_df['fear_total'] = pred_df['fear_10'] + pred_df['fear_75']\n",
        "pred_df['emotion_total'] = pred_df['anger_total'] + pred_df['fear_total']"
      ],
      "metadata": {
        "id": "45VzlEwPox0q"
      },
      "execution_count": 45,
      "outputs": []
    },
    {
      "cell_type": "markdown",
      "source": [
        "#Tying to Merge Pred_df and original dataframe... "
      ],
      "metadata": {
        "id": "nS6FL8ABo7ld"
      }
    },
    {
      "cell_type": "code",
      "source": [
        "pred_df.head()"
      ],
      "metadata": {
        "colab": {
          "base_uri": "https://localhost:8080/",
          "height": 441
        },
        "id": "vzcSVAD0pKjK",
        "outputId": "8e191ece-f671-4b54-ef6f-17b6aec0843e"
      },
      "execution_count": 46,
      "outputs": [
        {
          "output_type": "execute_result",
          "data": {
            "text/plain": [
              "                                                text  anger_10  anger_75  \\\n",
              "0  SAFE &amp; EFFECTIVE. Pfizer skipped major cat...         1         2   \n",
              "1  Its a very small cohort but it represented unv...         4         4   \n",
              "2  Lisa Beardsley-Hardy, GC director of education...         4         1   \n",
              "3  West Valley Junior High School will hold a com...         4         2   \n",
              "4  Free Covid-19 vaccinations will be provided by...         5         4   \n",
              "\n",
              "   fear_10  fear_75 anger_10_label anger_75_label fear_10_label fear_75_label  \\\n",
              "0        5        4        annoyed       agitated         dread          fear   \n",
              "1        4        3          angry          angry          fear       anxiety   \n",
              "2        4        0          angry        annoyed          fear          calm   \n",
              "3        1        0          angry       agitated       concern          calm   \n",
              "4        1        0           rage          angry       concern          calm   \n",
              "\n",
              "   anger_total  fear_total  emotion_total  \n",
              "0            3           9             12  \n",
              "1            8           7             15  \n",
              "2            5           4              9  \n",
              "3            6           1              7  \n",
              "4            9           1             10  "
            ],
            "text/html": [
              "\n",
              "  <div id=\"df-77c52707-e634-4424-b6a4-41d59455a258\">\n",
              "    <div class=\"colab-df-container\">\n",
              "      <div>\n",
              "<style scoped>\n",
              "    .dataframe tbody tr th:only-of-type {\n",
              "        vertical-align: middle;\n",
              "    }\n",
              "\n",
              "    .dataframe tbody tr th {\n",
              "        vertical-align: top;\n",
              "    }\n",
              "\n",
              "    .dataframe thead th {\n",
              "        text-align: right;\n",
              "    }\n",
              "</style>\n",
              "<table border=\"1\" class=\"dataframe\">\n",
              "  <thead>\n",
              "    <tr style=\"text-align: right;\">\n",
              "      <th></th>\n",
              "      <th>text</th>\n",
              "      <th>anger_10</th>\n",
              "      <th>anger_75</th>\n",
              "      <th>fear_10</th>\n",
              "      <th>fear_75</th>\n",
              "      <th>anger_10_label</th>\n",
              "      <th>anger_75_label</th>\n",
              "      <th>fear_10_label</th>\n",
              "      <th>fear_75_label</th>\n",
              "      <th>anger_total</th>\n",
              "      <th>fear_total</th>\n",
              "      <th>emotion_total</th>\n",
              "    </tr>\n",
              "  </thead>\n",
              "  <tbody>\n",
              "    <tr>\n",
              "      <th>0</th>\n",
              "      <td>SAFE &amp;amp; EFFECTIVE. Pfizer skipped major cat...</td>\n",
              "      <td>1</td>\n",
              "      <td>2</td>\n",
              "      <td>5</td>\n",
              "      <td>4</td>\n",
              "      <td>annoyed</td>\n",
              "      <td>agitated</td>\n",
              "      <td>dread</td>\n",
              "      <td>fear</td>\n",
              "      <td>3</td>\n",
              "      <td>9</td>\n",
              "      <td>12</td>\n",
              "    </tr>\n",
              "    <tr>\n",
              "      <th>1</th>\n",
              "      <td>Its a very small cohort but it represented unv...</td>\n",
              "      <td>4</td>\n",
              "      <td>4</td>\n",
              "      <td>4</td>\n",
              "      <td>3</td>\n",
              "      <td>angry</td>\n",
              "      <td>angry</td>\n",
              "      <td>fear</td>\n",
              "      <td>anxiety</td>\n",
              "      <td>8</td>\n",
              "      <td>7</td>\n",
              "      <td>15</td>\n",
              "    </tr>\n",
              "    <tr>\n",
              "      <th>2</th>\n",
              "      <td>Lisa Beardsley-Hardy, GC director of education...</td>\n",
              "      <td>4</td>\n",
              "      <td>1</td>\n",
              "      <td>4</td>\n",
              "      <td>0</td>\n",
              "      <td>angry</td>\n",
              "      <td>annoyed</td>\n",
              "      <td>fear</td>\n",
              "      <td>calm</td>\n",
              "      <td>5</td>\n",
              "      <td>4</td>\n",
              "      <td>9</td>\n",
              "    </tr>\n",
              "    <tr>\n",
              "      <th>3</th>\n",
              "      <td>West Valley Junior High School will hold a com...</td>\n",
              "      <td>4</td>\n",
              "      <td>2</td>\n",
              "      <td>1</td>\n",
              "      <td>0</td>\n",
              "      <td>angry</td>\n",
              "      <td>agitated</td>\n",
              "      <td>concern</td>\n",
              "      <td>calm</td>\n",
              "      <td>6</td>\n",
              "      <td>1</td>\n",
              "      <td>7</td>\n",
              "    </tr>\n",
              "    <tr>\n",
              "      <th>4</th>\n",
              "      <td>Free Covid-19 vaccinations will be provided by...</td>\n",
              "      <td>5</td>\n",
              "      <td>4</td>\n",
              "      <td>1</td>\n",
              "      <td>0</td>\n",
              "      <td>rage</td>\n",
              "      <td>angry</td>\n",
              "      <td>concern</td>\n",
              "      <td>calm</td>\n",
              "      <td>9</td>\n",
              "      <td>1</td>\n",
              "      <td>10</td>\n",
              "    </tr>\n",
              "  </tbody>\n",
              "</table>\n",
              "</div>\n",
              "      <button class=\"colab-df-convert\" onclick=\"convertToInteractive('df-77c52707-e634-4424-b6a4-41d59455a258')\"\n",
              "              title=\"Convert this dataframe to an interactive table.\"\n",
              "              style=\"display:none;\">\n",
              "        \n",
              "  <svg xmlns=\"http://www.w3.org/2000/svg\" height=\"24px\"viewBox=\"0 0 24 24\"\n",
              "       width=\"24px\">\n",
              "    <path d=\"M0 0h24v24H0V0z\" fill=\"none\"/>\n",
              "    <path d=\"M18.56 5.44l.94 2.06.94-2.06 2.06-.94-2.06-.94-.94-2.06-.94 2.06-2.06.94zm-11 1L8.5 8.5l.94-2.06 2.06-.94-2.06-.94L8.5 2.5l-.94 2.06-2.06.94zm10 10l.94 2.06.94-2.06 2.06-.94-2.06-.94-.94-2.06-.94 2.06-2.06.94z\"/><path d=\"M17.41 7.96l-1.37-1.37c-.4-.4-.92-.59-1.43-.59-.52 0-1.04.2-1.43.59L10.3 9.45l-7.72 7.72c-.78.78-.78 2.05 0 2.83L4 21.41c.39.39.9.59 1.41.59.51 0 1.02-.2 1.41-.59l7.78-7.78 2.81-2.81c.8-.78.8-2.07 0-2.86zM5.41 20L4 18.59l7.72-7.72 1.47 1.35L5.41 20z\"/>\n",
              "  </svg>\n",
              "      </button>\n",
              "      \n",
              "  <style>\n",
              "    .colab-df-container {\n",
              "      display:flex;\n",
              "      flex-wrap:wrap;\n",
              "      gap: 12px;\n",
              "    }\n",
              "\n",
              "    .colab-df-convert {\n",
              "      background-color: #E8F0FE;\n",
              "      border: none;\n",
              "      border-radius: 50%;\n",
              "      cursor: pointer;\n",
              "      display: none;\n",
              "      fill: #1967D2;\n",
              "      height: 32px;\n",
              "      padding: 0 0 0 0;\n",
              "      width: 32px;\n",
              "    }\n",
              "\n",
              "    .colab-df-convert:hover {\n",
              "      background-color: #E2EBFA;\n",
              "      box-shadow: 0px 1px 2px rgba(60, 64, 67, 0.3), 0px 1px 3px 1px rgba(60, 64, 67, 0.15);\n",
              "      fill: #174EA6;\n",
              "    }\n",
              "\n",
              "    [theme=dark] .colab-df-convert {\n",
              "      background-color: #3B4455;\n",
              "      fill: #D2E3FC;\n",
              "    }\n",
              "\n",
              "    [theme=dark] .colab-df-convert:hover {\n",
              "      background-color: #434B5C;\n",
              "      box-shadow: 0px 1px 3px 1px rgba(0, 0, 0, 0.15);\n",
              "      filter: drop-shadow(0px 1px 2px rgba(0, 0, 0, 0.3));\n",
              "      fill: #FFFFFF;\n",
              "    }\n",
              "  </style>\n",
              "\n",
              "      <script>\n",
              "        const buttonEl =\n",
              "          document.querySelector('#df-77c52707-e634-4424-b6a4-41d59455a258 button.colab-df-convert');\n",
              "        buttonEl.style.display =\n",
              "          google.colab.kernel.accessAllowed ? 'block' : 'none';\n",
              "\n",
              "        async function convertToInteractive(key) {\n",
              "          const element = document.querySelector('#df-77c52707-e634-4424-b6a4-41d59455a258');\n",
              "          const dataTable =\n",
              "            await google.colab.kernel.invokeFunction('convertToInteractive',\n",
              "                                                     [key], {});\n",
              "          if (!dataTable) return;\n",
              "\n",
              "          const docLinkHtml = 'Like what you see? Visit the ' +\n",
              "            '<a target=\"_blank\" href=https://colab.research.google.com/notebooks/data_table.ipynb>data table notebook</a>'\n",
              "            + ' to learn more about interactive tables.';\n",
              "          element.innerHTML = '';\n",
              "          dataTable['output_type'] = 'display_data';\n",
              "          await google.colab.output.renderOutput(dataTable, element);\n",
              "          const docLink = document.createElement('div');\n",
              "          docLink.innerHTML = docLinkHtml;\n",
              "          element.appendChild(docLink);\n",
              "        }\n",
              "      </script>\n",
              "    </div>\n",
              "  </div>\n",
              "  "
            ]
          },
          "metadata": {},
          "execution_count": 46
        }
      ]
    },
    {
      "cell_type": "code",
      "source": [
        "#Merging on index... \n",
        "\n",
        "merged = df.merge(pred_df, left_index=True, right_index=True, how='inner', indicator=True)\n",
        "value_counts = merged['_merge'].value_counts()\n",
        "print(value_counts)\n"
      ],
      "metadata": {
        "colab": {
          "base_uri": "https://localhost:8080/"
        },
        "id": "IHVcLGffMWIw",
        "outputId": "c06d0145-f6fc-41dc-803a-9117315a8655"
      },
      "execution_count": 51,
      "outputs": [
        {
          "output_type": "stream",
          "name": "stdout",
          "text": [
            "both          116687\n",
            "left_only          0\n",
            "right_only         0\n",
            "Name: _merge, dtype: int64\n"
          ]
        }
      ]
    },
    {
      "cell_type": "code",
      "source": [
        "merged.head()\n"
      ],
      "metadata": {
        "id": "6TPsilwBMxmN"
      },
      "execution_count": null,
      "outputs": []
    },
    {
      "cell_type": "code",
      "source": [
        "merged.columns"
      ],
      "metadata": {
        "colab": {
          "base_uri": "https://localhost:8080/"
        },
        "id": "6QY3LQCfNNf5",
        "outputId": "d44c41ce-604e-4ae7-9a14-f0d4e829b2a2"
      },
      "execution_count": 54,
      "outputs": [
        {
          "output_type": "execute_result",
          "data": {
            "text/plain": [
              "Index(['id', 'conversation_id', 'created_at', 'date', 'time', 'timezone',\n",
              "       'user_id', 'username', 'name', 'place', 'text_x', 'language',\n",
              "       'mentions', 'urls', 'photos', 'replies_count', 'retweets_count',\n",
              "       'likes_count', 'hashtags', 'cashtags', 'link', 'retweet', 'quote_url',\n",
              "       'video', 'thumbnail', 'near', 'geo', 'source', 'user_rt_id', 'user_rt',\n",
              "       'retweet_id', 'reply_to', 'retweet_date', 'translate', 'trans_src',\n",
              "       'trans_dest', 'text_y', 'anger_10', 'anger_75', 'fear_10', 'fear_75',\n",
              "       'anger_10_label', 'anger_75_label', 'fear_10_label', 'fear_75_label',\n",
              "       'anger_total', 'fear_total', 'emotion_total', '_merge'],\n",
              "      dtype='object')"
            ]
          },
          "metadata": {},
          "execution_count": 54
        }
      ]
    },
    {
      "cell_type": "code",
      "source": [
        "#Createa a dataframe to check the two...\n",
        "new_df = merged[['text_x', 'text_y']]"
      ],
      "metadata": {
        "id": "_G6liXoMNTUm"
      },
      "execution_count": 56,
      "outputs": []
    },
    {
      "cell_type": "code",
      "source": [
        "new_df"
      ],
      "metadata": {
        "colab": {
          "base_uri": "https://localhost:8080/",
          "height": 423
        },
        "id": "504DUN_aNxMF",
        "outputId": "d71e8ab2-e51a-4604-fd33-f24725d086e5"
      },
      "execution_count": 57,
      "outputs": [
        {
          "output_type": "execute_result",
          "data": {
            "text/plain": [
              "                                                   text_x  \\\n",
              "0       SAFE &amp; EFFECTIVE. Pfizer skipped major cat...   \n",
              "1       Its a very small cohort but it represented unv...   \n",
              "2       Lisa Beardsley-Hardy, GC director of education...   \n",
              "3       West Valley Junior High School will hold a com...   \n",
              "4       Free Covid-19 vaccinations will be provided by...   \n",
              "...                                                   ...   \n",
              "116682  \" Safe and Effective: A Second Opinion shines ...   \n",
              "116683  Covid-19 inspired people to circumvent censors...   \n",
              "116684              Just like trump caused Covid-19 right   \n",
              "116685  Hastings restaurant owner said she was fined b...   \n",
              "116686  Will RABID sicko HATERS block Trump from negot...   \n",
              "\n",
              "                                                   text_y  \n",
              "0       SAFE &amp; EFFECTIVE. Pfizer skipped major cat...  \n",
              "1       Its a very small cohort but it represented unv...  \n",
              "2       Lisa Beardsley-Hardy, GC director of education...  \n",
              "3       West Valley Junior High School will hold a com...  \n",
              "4       Free Covid-19 vaccinations will be provided by...  \n",
              "...                                                   ...  \n",
              "116682  \" Safe and Effective: A Second Opinion shines ...  \n",
              "116683  Covid-19 inspired people to circumvent censors...  \n",
              "116684              Just like trump caused Covid-19 right  \n",
              "116685  Hastings restaurant owner said she was fined b...  \n",
              "116686  Will RABID sicko HATERS block Trump from negot...  \n",
              "\n",
              "[116687 rows x 2 columns]"
            ],
            "text/html": [
              "\n",
              "  <div id=\"df-a86e38df-a02c-4bae-9f3d-ac03050c467d\">\n",
              "    <div class=\"colab-df-container\">\n",
              "      <div>\n",
              "<style scoped>\n",
              "    .dataframe tbody tr th:only-of-type {\n",
              "        vertical-align: middle;\n",
              "    }\n",
              "\n",
              "    .dataframe tbody tr th {\n",
              "        vertical-align: top;\n",
              "    }\n",
              "\n",
              "    .dataframe thead th {\n",
              "        text-align: right;\n",
              "    }\n",
              "</style>\n",
              "<table border=\"1\" class=\"dataframe\">\n",
              "  <thead>\n",
              "    <tr style=\"text-align: right;\">\n",
              "      <th></th>\n",
              "      <th>text_x</th>\n",
              "      <th>text_y</th>\n",
              "    </tr>\n",
              "  </thead>\n",
              "  <tbody>\n",
              "    <tr>\n",
              "      <th>0</th>\n",
              "      <td>SAFE &amp;amp; EFFECTIVE. Pfizer skipped major cat...</td>\n",
              "      <td>SAFE &amp;amp; EFFECTIVE. Pfizer skipped major cat...</td>\n",
              "    </tr>\n",
              "    <tr>\n",
              "      <th>1</th>\n",
              "      <td>Its a very small cohort but it represented unv...</td>\n",
              "      <td>Its a very small cohort but it represented unv...</td>\n",
              "    </tr>\n",
              "    <tr>\n",
              "      <th>2</th>\n",
              "      <td>Lisa Beardsley-Hardy, GC director of education...</td>\n",
              "      <td>Lisa Beardsley-Hardy, GC director of education...</td>\n",
              "    </tr>\n",
              "    <tr>\n",
              "      <th>3</th>\n",
              "      <td>West Valley Junior High School will hold a com...</td>\n",
              "      <td>West Valley Junior High School will hold a com...</td>\n",
              "    </tr>\n",
              "    <tr>\n",
              "      <th>4</th>\n",
              "      <td>Free Covid-19 vaccinations will be provided by...</td>\n",
              "      <td>Free Covid-19 vaccinations will be provided by...</td>\n",
              "    </tr>\n",
              "    <tr>\n",
              "      <th>...</th>\n",
              "      <td>...</td>\n",
              "      <td>...</td>\n",
              "    </tr>\n",
              "    <tr>\n",
              "      <th>116682</th>\n",
              "      <td>\" Safe and Effective: A Second Opinion shines ...</td>\n",
              "      <td>\" Safe and Effective: A Second Opinion shines ...</td>\n",
              "    </tr>\n",
              "    <tr>\n",
              "      <th>116683</th>\n",
              "      <td>Covid-19 inspired people to circumvent censors...</td>\n",
              "      <td>Covid-19 inspired people to circumvent censors...</td>\n",
              "    </tr>\n",
              "    <tr>\n",
              "      <th>116684</th>\n",
              "      <td>Just like trump caused Covid-19 right</td>\n",
              "      <td>Just like trump caused Covid-19 right</td>\n",
              "    </tr>\n",
              "    <tr>\n",
              "      <th>116685</th>\n",
              "      <td>Hastings restaurant owner said she was fined b...</td>\n",
              "      <td>Hastings restaurant owner said she was fined b...</td>\n",
              "    </tr>\n",
              "    <tr>\n",
              "      <th>116686</th>\n",
              "      <td>Will RABID sicko HATERS block Trump from negot...</td>\n",
              "      <td>Will RABID sicko HATERS block Trump from negot...</td>\n",
              "    </tr>\n",
              "  </tbody>\n",
              "</table>\n",
              "<p>116687 rows × 2 columns</p>\n",
              "</div>\n",
              "      <button class=\"colab-df-convert\" onclick=\"convertToInteractive('df-a86e38df-a02c-4bae-9f3d-ac03050c467d')\"\n",
              "              title=\"Convert this dataframe to an interactive table.\"\n",
              "              style=\"display:none;\">\n",
              "        \n",
              "  <svg xmlns=\"http://www.w3.org/2000/svg\" height=\"24px\"viewBox=\"0 0 24 24\"\n",
              "       width=\"24px\">\n",
              "    <path d=\"M0 0h24v24H0V0z\" fill=\"none\"/>\n",
              "    <path d=\"M18.56 5.44l.94 2.06.94-2.06 2.06-.94-2.06-.94-.94-2.06-.94 2.06-2.06.94zm-11 1L8.5 8.5l.94-2.06 2.06-.94-2.06-.94L8.5 2.5l-.94 2.06-2.06.94zm10 10l.94 2.06.94-2.06 2.06-.94-2.06-.94-.94-2.06-.94 2.06-2.06.94z\"/><path d=\"M17.41 7.96l-1.37-1.37c-.4-.4-.92-.59-1.43-.59-.52 0-1.04.2-1.43.59L10.3 9.45l-7.72 7.72c-.78.78-.78 2.05 0 2.83L4 21.41c.39.39.9.59 1.41.59.51 0 1.02-.2 1.41-.59l7.78-7.78 2.81-2.81c.8-.78.8-2.07 0-2.86zM5.41 20L4 18.59l7.72-7.72 1.47 1.35L5.41 20z\"/>\n",
              "  </svg>\n",
              "      </button>\n",
              "      \n",
              "  <style>\n",
              "    .colab-df-container {\n",
              "      display:flex;\n",
              "      flex-wrap:wrap;\n",
              "      gap: 12px;\n",
              "    }\n",
              "\n",
              "    .colab-df-convert {\n",
              "      background-color: #E8F0FE;\n",
              "      border: none;\n",
              "      border-radius: 50%;\n",
              "      cursor: pointer;\n",
              "      display: none;\n",
              "      fill: #1967D2;\n",
              "      height: 32px;\n",
              "      padding: 0 0 0 0;\n",
              "      width: 32px;\n",
              "    }\n",
              "\n",
              "    .colab-df-convert:hover {\n",
              "      background-color: #E2EBFA;\n",
              "      box-shadow: 0px 1px 2px rgba(60, 64, 67, 0.3), 0px 1px 3px 1px rgba(60, 64, 67, 0.15);\n",
              "      fill: #174EA6;\n",
              "    }\n",
              "\n",
              "    [theme=dark] .colab-df-convert {\n",
              "      background-color: #3B4455;\n",
              "      fill: #D2E3FC;\n",
              "    }\n",
              "\n",
              "    [theme=dark] .colab-df-convert:hover {\n",
              "      background-color: #434B5C;\n",
              "      box-shadow: 0px 1px 3px 1px rgba(0, 0, 0, 0.15);\n",
              "      filter: drop-shadow(0px 1px 2px rgba(0, 0, 0, 0.3));\n",
              "      fill: #FFFFFF;\n",
              "    }\n",
              "  </style>\n",
              "\n",
              "      <script>\n",
              "        const buttonEl =\n",
              "          document.querySelector('#df-a86e38df-a02c-4bae-9f3d-ac03050c467d button.colab-df-convert');\n",
              "        buttonEl.style.display =\n",
              "          google.colab.kernel.accessAllowed ? 'block' : 'none';\n",
              "\n",
              "        async function convertToInteractive(key) {\n",
              "          const element = document.querySelector('#df-a86e38df-a02c-4bae-9f3d-ac03050c467d');\n",
              "          const dataTable =\n",
              "            await google.colab.kernel.invokeFunction('convertToInteractive',\n",
              "                                                     [key], {});\n",
              "          if (!dataTable) return;\n",
              "\n",
              "          const docLinkHtml = 'Like what you see? Visit the ' +\n",
              "            '<a target=\"_blank\" href=https://colab.research.google.com/notebooks/data_table.ipynb>data table notebook</a>'\n",
              "            + ' to learn more about interactive tables.';\n",
              "          element.innerHTML = '';\n",
              "          dataTable['output_type'] = 'display_data';\n",
              "          await google.colab.output.renderOutput(dataTable, element);\n",
              "          const docLink = document.createElement('div');\n",
              "          docLink.innerHTML = docLinkHtml;\n",
              "          element.appendChild(docLink);\n",
              "        }\n",
              "      </script>\n",
              "    </div>\n",
              "  </div>\n",
              "  "
            ]
          },
          "metadata": {},
          "execution_count": 57
        }
      ]
    },
    {
      "cell_type": "markdown",
      "source": [
        "#Exporting the dataset - if required... "
      ],
      "metadata": {
        "id": "SzCBjz2QpMEu"
      }
    },
    {
      "cell_type": "code",
      "source": [
        "#path = \"/content/drive/MyDrive/Sean/Emoclass/inference_COVID19_223K_March9b,2023.csv\"\n",
        "#pred_df.to_csv(path)"
      ],
      "metadata": {
        "id": "KE7LG5JepP93"
      },
      "execution_count": 47,
      "outputs": []
    },
    {
      "cell_type": "markdown",
      "source": [],
      "metadata": {
        "id": "xslCmCNIpIDY"
      }
    }
  ]
}